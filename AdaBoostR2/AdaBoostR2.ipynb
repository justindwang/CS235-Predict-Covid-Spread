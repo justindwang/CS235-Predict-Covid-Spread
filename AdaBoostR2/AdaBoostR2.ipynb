{
  "cells": [
    {
      "cell_type": "code",
      "execution_count": null,
      "metadata": {
        "id": "bd6f8c9b"
      },
      "outputs": [],
      "source": [
        "# Importing packages\n",
        "import pandas as pd \n",
        "import numpy as np \n",
        "import matplotlib.pyplot as plt\n",
        "import seaborn as sns \n",
        "from datetime import date \n",
        "import math \n",
        "import statistics\n",
        "\n",
        "from sklearn.metrics import mean_squared_log_error, mean_squared_error \n",
        "from sklearn.model_selection import TimeSeriesSplit \n",
        "from statistics import mean"
      ],
      "id": "bd6f8c9b"
    },
    {
      "cell_type": "code",
      "execution_count": 62,
      "metadata": {
        "id": "49043fda"
      },
      "outputs": [],
      "source": [
        "# Helper Classes and Functions\n",
        "\n",
        "# We build the decision tree using RSS criteria\n",
        "# Function to determine the best split at each bud\n",
        "def RSS_criteria(child_L, child_R, parent, median_flag=False):\n",
        "    if(median_flag): #Uses median instead of mean to calculate RSS to make it more robust to outliers.\n",
        "      rss_parent = sum((parent - statistics.median(parent))**2)\n",
        "      rss_child_L = sum((child_L - statistics.median(child_L))**2) \n",
        "      rss_child_R = sum((child_R - statistics.median(child_R))**2)\n",
        "    else: #Uses mean to calculate RSS instead of median if data set has many 0's as in the case of predicting no. of deaths.\n",
        "      rss_parent = sum((parent - np.mean(parent))**2)\n",
        "      rss_child_L = sum((child_L - np.mean(child_L))**2) \n",
        "      rss_child_R = sum((child_R - np.mean(child_R))**2)\n",
        "    return rss_parent - (rss_child_L + rss_child_R) # Check how much a split reduces the parent node's RSS\n",
        "\n",
        "# Returns the median of values based on cumulative sum of weights.\n",
        "def weighted_median(values, weights):\n",
        "    sorted_indices = values.argsort()\n",
        "    values = values[sorted_indices]\n",
        "    weights = weights[sorted_indices]\n",
        "    weights_cumulative_sum = weights.cumsum()\n",
        "    median_weight = np.argmax(weights_cumulative_sum >= sum(weights)/2)\n",
        "    return values[median_weight]\n",
        "\n",
        "# Function that stop the node from splitting if the training observations are all the same\n",
        "def equal_rows(X):\n",
        "    return (X == X[0]).all()\n",
        "\n",
        "# Function that provides a list of unique values in x; used for in spltting\n",
        "def sorted_x_y(x, y):\n",
        "    uni_xs = np.unique(x)\n",
        "    y_mean_for_x = np.array([y[x == uni_x].mean() for uni_x in uni_xs])\n",
        "    ordered_xs = uni_xs[np.argsort(y_mean_for_x)]\n",
        "    return ordered_xs\n",
        "\n",
        "# Class for representing the decision tree nodes, its attributes and whether the node is a leaf node or not.\n",
        "class DecisionTreeNode:\n",
        "    \n",
        "    def __init__(self, Xsub, ysub, ID, depth = 0, parent_ID = None, leaf = True):\n",
        "        self.ID = ID\n",
        "        self.Xsub = Xsub\n",
        "        self.ysub = ysub\n",
        "        self.size = len(ysub)\n",
        "        self.depth = depth\n",
        "        self.parent_ID = parent_ID\n",
        "        self.leaf = leaf\n",
        "\n",
        "# Class that identifies the best split for the bud. \n",
        "class NodeSplitter:\n",
        "    \n",
        "    # Constructor that sets itself up with the default case of no splitting (leaf node)\n",
        "    def __init__(self):\n",
        "        self.rss_reduction = 0\n",
        "        self.no_split = True # Default split status\n",
        "    \n",
        "    # Function to capture the split's reduction in RSS, a variable d that makes the split, the data type, the threshold (to manage overfitting),the L values ( a set of values), and split status\n",
        "    def _replace_split(self, rss_reduction, d, dtype = 'quant', t = None, L_values = None):\n",
        "        self.rss_reduction = rss_reduction\n",
        "        self.d = d # d is the chosen predictor that splits the node\n",
        "        self.dtype = dtype\n",
        "        self.t = t # t is the threshold value       \n",
        "        self.L_values = L_values     \n",
        "        self.no_split = False # Change split status"
      ],
      "id": "49043fda"
    },
    {
      "cell_type": "code",
      "execution_count": 63,
      "metadata": {
        "id": "43522888"
      },
      "outputs": [],
      "source": [
        "# Class used to build the model and prediction in the individual decision tree.\n",
        "class DecisionTreeRegressor:\n",
        "\n",
        "    # Fit the data. Uses the provided training data, parameter C is null in the single decision tree case\n",
        "    def fit(self, X, y, max_depth = 100, min_size = 2, C = None):\n",
        "        \n",
        "        # Adds the data\n",
        "        self.X = X\n",
        "        self.y = y\n",
        "        self.N, self.D = self.X.shape\n",
        "        dtypes = [np.array(list(self.X[:,d])).dtype for d in range(self.D)]\n",
        "        self.dtypes = ['quant' if (dtype == float or dtype == int) else 'cat' for dtype in dtypes] # Differentiates between categorical and numerical variable types\n",
        "        \n",
        "        # Adds regularization parameters\n",
        "        self.max_depth = max_depth\n",
        "        self.min_size = min_size\n",
        "        self.C = C\n",
        "        \n",
        "        # Initializes the nodes\n",
        "        self.nodes_dict = {}\n",
        "        self.current_ID = 0 # Builds node IDs used for building the tree\n",
        "        root_node = DecisionTreeNode(Xsub = X, ysub = y, ID = self.current_ID, parent_ID = None)\n",
        "        self.nodes_dict[self.current_ID] = root_node\n",
        "        self.current_ID += 1\n",
        "        \n",
        "        # Builds the tree using the _build function below\n",
        "        self._build()\n",
        "        \n",
        "    # Build function for creating decision trees\n",
        "    def _build(self):\n",
        "        \n",
        "        eligible_buds = self.nodes_dict \n",
        "        for layer in range(self.max_depth):\n",
        "            \n",
        "            # Finds the eligible nodes instantiated above for layer iteration\n",
        "            eligible_buds = {ID:node for (ID, node) in self.nodes_dict.items() if \n",
        "                                (node.leaf == True) &\n",
        "                                (node.size >= self.min_size) & \n",
        "                                (~equal_rows(node.Xsub)) &\n",
        "                                (len(np.unique(node.ysub)) > 1)}\n",
        "            if len(eligible_buds) == 0:\n",
        "                break\n",
        "                \n",
        "            # Performs a split each eligible parent\n",
        "            for ID, bud in eligible_buds.items():\n",
        "                                \n",
        "                # Finds the split\n",
        "                self._find_split(bud)\n",
        "                \n",
        "                # Makes the split\n",
        "                if not self.splitter.no_split: # provides the possibility of no split\n",
        "                    self._make_split()\n",
        "        \n",
        "    \n",
        "    # Function for finding the split reduces the bud's RSS\n",
        "    def _find_split(self, bud):\n",
        "        \n",
        "        # Creates the splitter class\n",
        "        splitter = NodeSplitter()\n",
        "        splitter.bud_ID = bud.ID\n",
        "        \n",
        "        # Based on provided parameter c, this gathers eligible predictors for Random Forests\n",
        "        if self.C is None:\n",
        "            eligible_predictors = np.arange(self.D)\n",
        "        else:\n",
        "            eligible_predictors = np.random.choice(np.arange(self.D), self.C, replace = False)\n",
        "        \n",
        "        # For each eligible predictor\n",
        "        for d in sorted(eligible_predictors):\n",
        "            Xsub_d = bud.Xsub[:,d]\n",
        "            dtype = self.dtypes[d]\n",
        "            if len(np.unique(Xsub_d)) == 1:\n",
        "                continue\n",
        "\n",
        "            # For each threshold value\n",
        "            if dtype == 'quant': # For quantitative variables\n",
        "                for t in np.unique(Xsub_d)[:-1]:\n",
        "                    ysub_L = bud.ysub[Xsub_d <= t]\n",
        "                    ysub_R = bud.ysub[Xsub_d > t]\n",
        "                    rss_reduction = RSS_criteria(ysub_L, ysub_R, bud.ysub)\n",
        "                    if rss_reduction > splitter.rss_reduction:\n",
        "                        splitter._replace_split(rss_reduction, d, dtype = 'quant', t = t)\n",
        "            else:\n",
        "                ordered_x = sorted_x_y(Xsub_d, bud.ysub) # For categorical variables\n",
        "                for i in range(len(ordered_x) - 1):\n",
        "                    L_values = ordered_x[:i+1]\n",
        "                    ysub_L = bud.ysub[np.isin(Xsub_d, L_values)]\n",
        "                    ysub_R = bud.ysub[~np.isin(Xsub_d, L_values)]\n",
        "                    rss_reduction = RSS_criteria(ysub_L, ysub_R, bud.ysub)\n",
        "                    if rss_reduction > splitter.rss_reduction: \n",
        "                        splitter._replace_split(rss_reduction, d, dtype = 'cat', L_values = L_values)\n",
        "        \n",
        "        # Saves the splitter\n",
        "        self.splitter = splitter\n",
        "        \n",
        "    # Defines the function for making the split. It iterates through the layers of the tree, splits at the eligible nodes, and then repeats.\n",
        "    def _make_split(self):\n",
        "        # Updates the parent node\n",
        "        parent_node = self.nodes_dict[self.splitter.bud_ID]\n",
        "        parent_node.leaf = False\n",
        "        parent_node.child_L = self.current_ID\n",
        "        parent_node.child_R = self.current_ID + 1\n",
        "        parent_node.d = self.splitter.d\n",
        "        parent_node.dtype = self.splitter.dtype\n",
        "        parent_node.t = self.splitter.t        \n",
        "        parent_node.L_values = self.splitter.L_values\n",
        "        \n",
        "        # Get X and y data for children\n",
        "        if parent_node.dtype == 'quant':\n",
        "            L_condition = parent_node.Xsub[:,parent_node.d] <= parent_node.t\n",
        "     \n",
        "        else:\n",
        "            L_condition = np.isin(parent_node.Xsub[:,parent_node.d], parent_node.L_values)\n",
        "        Xchild_L = parent_node.Xsub[L_condition]\n",
        "        ychild_L = parent_node.ysub[L_condition]\n",
        "        Xchild_R = parent_node.Xsub[~L_condition]\n",
        "        ychild_R = parent_node.ysub[~L_condition]\n",
        "\n",
        "        \n",
        "        # Creates the child nodes\n",
        "        child_node_L = DecisionTreeNode(Xchild_L, ychild_L, depth = parent_node.depth + 1,\n",
        "                            ID = self.current_ID, parent_ID = parent_node.ID)\n",
        "        child_node_R = DecisionTreeNode(Xchild_R, ychild_R, depth = parent_node.depth + 1,\n",
        "                            ID = self.current_ID+1, parent_ID = parent_node.ID)\n",
        "        self.nodes_dict[self.current_ID] = child_node_L\n",
        "        self.nodes_dict[self.current_ID + 1] = child_node_R\n",
        "        self.current_ID += 2\n",
        "        \n",
        "    # Prediction portion\n",
        "    \n",
        "    # Defines the function _get_leaf_means that calculates the average of the y variable among training observations in each leaf\n",
        "    def _get_leaf_means(self):\n",
        "        self.leaf_means = {}\n",
        "        for node_ID, node in self.nodes_dict.items():\n",
        "            if node.leaf:\n",
        "                self.leaf_means[node_ID] = node.ysub.mean()\n",
        "\n",
        "                \n",
        "    # Defines the predict function for DecisionTreeRegressor class that runs the test observation through the created tree and returns the mean of the y variable in the leaf\n",
        "    def predict(self, X_test):\n",
        "        \n",
        "        # Calculates the leaf means\n",
        "        self._get_leaf_means()\n",
        "     \n",
        "        yhat = []\n",
        "        for x in X_test:\n",
        "            node = self.nodes_dict[0] \n",
        "            while not node.leaf:\n",
        "                if node.dtype == 'quant':\n",
        "                    if x[node.d] <= node.t:\n",
        "                        node = self.nodes_dict[node.child_L]\n",
        "                    else:\n",
        "                        node = self.nodes_dict[node.child_R]\n",
        "                else:\n",
        "                    if x[node.d] in node.L_values:\n",
        "                        node = self.nodes_dict[node.child_L]\n",
        "                    else:\n",
        "                        node = self.nodes_dict[node.child_R]\n",
        "            yhat.append(self.leaf_means[node.ID])\n",
        "        return np.array(yhat)"
      ],
      "id": "43522888"
    },
    {
      "cell_type": "code",
      "execution_count": 64,
      "metadata": {
        "id": "1c248819"
      },
      "outputs": [],
      "source": [
        "class AdaBoostR2:\n",
        "    \n",
        "    def fit(self, X_train, y_train, T = 100, stub_depth = 1, random_state = None):\n",
        "        \n",
        "        self.y_train = y_train\n",
        "        self.X_train = X_train\n",
        "        self.T = T\n",
        "        self.stub_depth = stub_depth\n",
        "        self.N, self.D = X_train.shape\n",
        "        self.weights = np.repeat(1/self.N, self.N)\n",
        "        np.random.seed(random_state)\n",
        "        \n",
        "        self.trees = []    \n",
        "        self.fitted_values = np.empty((self.N, self.T))\n",
        "        self.betas = []\n",
        "        for t in range(self.T):\n",
        "            \n",
        "            ## Draw sample, fit tree, get predictions\n",
        "            bootstrap_indices = np.random.choice(np.arange(self.N), size = self.N, replace = True, p = self.weights)\n",
        "            bootstrap_X = self.X_train[bootstrap_indices]\n",
        "            bootstrap_y = self.y_train[bootstrap_indices]\n",
        "            tree = DecisionTreeRegressor()\n",
        "            tree.fit(bootstrap_X, bootstrap_y, max_depth = stub_depth)\n",
        "            self.trees.append(tree)\n",
        "            yhat = tree.predict(X_train)\n",
        "            self.fitted_values[:,t] = yhat\n",
        "            \n",
        "            ## Calculate observation errors\n",
        "            abs_errors_t = np.abs(self.y_train - yhat)\n",
        "            D_t = np.max(abs_errors_t)\n",
        "            L_ts = abs_errors_t/D_t\n",
        "            \n",
        "            ## Calculate model error (and possibly break)\n",
        "            Lbar_t = np.sum(self.weights*L_ts)\n",
        "            if Lbar_t >= 0.5:\n",
        "                self.T = t - 1\n",
        "                self.fitted_values = self.fitted_values[:,:t-1]\n",
        "                self.trees = self.trees[:t-1]\n",
        "                break\n",
        "            \n",
        "            ## Calculate and record beta \n",
        "            beta_t = Lbar_t/(1 - Lbar_t)\n",
        "            self.betas.append(beta_t)\n",
        "            \n",
        "            ## Reweight\n",
        "            Z_t = np.sum(self.weights*beta_t**(1-L_ts))\n",
        "            self.weights *= beta_t**(1-L_ts)/Z_t\n",
        "            \n",
        "        ## Get median \n",
        "        self.model_weights = np.log(1/np.array(self.betas))\n",
        "        self.y_train_hat = np.array([weighted_median(self.fitted_values[n], self.model_weights) for n in range(self.N)])\n",
        "        \n",
        "    def predict(self, X_test):\n",
        "        N_test = len(X_test)\n",
        "        fitted_values = np.empty((N_test, self.T))\n",
        "        for t, tree in enumerate(self.trees):\n",
        "            fitted_values[:,t] = tree.predict(X_test)\n",
        "        return np.array([weighted_median(fitted_values[n], self.model_weights) for n in range(N_test)]) "
      ],
      "id": "1c248819"
    },
    {
      "cell_type": "code",
      "execution_count": 81,
      "metadata": {
        "id": "f840cdeb"
      },
      "outputs": [],
      "source": [
        "# Loads the data, make sure the csv file is in the same working directory\n",
        "train = pd.read_csv(\"train.csv\")\n",
        "test = pd.read_csv(\"test.csv\")"
      ],
      "id": "f840cdeb"
    },
    {
      "cell_type": "code",
      "execution_count": 82,
      "metadata": {
        "id": "bce9509b"
      },
      "outputs": [],
      "source": [
        "# Drops the first uknown column in the data\n",
        "train = train.drop('Unnamed: 0', axis=1)\n",
        "test = test.drop('Unnamed: 0', axis=1)"
      ],
      "id": "bce9509b"
    },
    {
      "cell_type": "code",
      "execution_count": 83,
      "metadata": {
        "id": "a6f5108b"
      },
      "outputs": [],
      "source": [
        "# Defines a class, date_to_int, that transforms the Date feature into an integer that represents the days past the initial date found in the data, Jan 21, 2021.\n",
        "# Transformation of the data for time series analysis\n",
        "def date_to_int(d):\n",
        "    initial_date = date(2020, 1, 21)\n",
        "    curr_date = [int(x) for x in d.split('-')]\n",
        "    final_date = date(curr_date[0], curr_date[1], curr_date[2])\n",
        "    delta = final_date - initial_date\n",
        "    return delta.days"
      ],
      "id": "a6f5108b"
    },
    {
      "cell_type": "code",
      "execution_count": 84,
      "metadata": {
        "id": "57e01421"
      },
      "outputs": [],
      "source": [
        "# Transforms the Country feature, a categorical feature, using one-hot encoding into an integer in a vector space representing that respective country\n",
        "one_hot_train = pd.get_dummies(train['Country'])\n",
        "train = train.join(one_hot_train)\n",
        "# Applies the date_to_int function\n",
        "train['Day'] = train['Date'].apply(lambda x: date_to_int(x))"
      ],
      "id": "57e01421"
    },
    {
      "cell_type": "code",
      "execution_count": 80,
      "metadata": {
        "id": "f1a4716d"
      },
      "outputs": [],
      "source": [
        "# Done similarly with test data\n",
        "one_hot_test = pd.get_dummies(test['Country'])\n",
        "test = test.join(one_hot_train)\n",
        "test['Day'] = test['Date'].apply(lambda x: date_to_int(x))"
      ],
      "id": "f1a4716d"
    },
    {
      "cell_type": "code",
      "execution_count": 85,
      "metadata": {
        "id": "2692fd99"
      },
      "outputs": [],
      "source": [
        "# Applies a log transform on the dependent variables \n",
        "train['log_Confirmed'] = train['Confirmed'].apply(lambda x: round(math.log(x+1),3))\n",
        "train['log_Deaths'] = train['Deaths'].apply(lambda x: round(math.log(x+1),3))\n",
        "train['log_Recovered'] = train['Recovered'].apply(lambda x: round(math.log(x+1),3))\n",
        "train['log_Active'] = train['Active'].apply(lambda x: round(math.log(x+1),3))"
      ],
      "id": "2692fd99"
    },
    {
      "cell_type": "code",
      "execution_count": 86,
      "metadata": {
        "id": "25fcd65f"
      },
      "outputs": [],
      "source": [
        "# Done similarly with test data\n",
        "test['log_Confirmed'] = test['Confirmed'].apply(lambda x: round(math.log(x+1),3))\n",
        "test['log_Deaths'] = test['Deaths'].apply(lambda x: round(math.log(x+1),3))\n",
        "test['log_Recovered'] = test['Recovered'].apply(lambda x: round(math.log(x+1),3))\n",
        "test['log_Active'] = test['Active'].apply(lambda x: round(math.log(x+1),3))"
      ],
      "id": "25fcd65f"
    },
    {
      "cell_type": "code",
      "execution_count": 87,
      "metadata": {
        "id": "85af58c5"
      },
      "outputs": [],
      "source": [
        "# Drops the first seven columns in the data set that contained the untransformed features\n",
        "train.drop(train.iloc[:, 0:6], inplace = True, axis = 1)\n",
        "test.drop(test.iloc[:, 0:6], inplace = True, axis = 1)"
      ],
      "id": "85af58c5"
    },
    {
      "cell_type": "code",
      "execution_count": 88,
      "metadata": {
        "colab": {
          "base_uri": "https://localhost:8080/"
        },
        "id": "f9015b5a",
        "outputId": "75122be2-30fd-4421-cc20-9a9ac36ca010"
      },
      "outputs": [
        {
          "output_type": "stream",
          "name": "stderr",
          "text": [
            "/usr/local/lib/python3.7/dist-packages/numpy/core/fromnumeric.py:3441: RuntimeWarning: Mean of empty slice.\n",
            "  out=out, **kwargs)\n",
            "/usr/local/lib/python3.7/dist-packages/numpy/core/_methods.py:189: RuntimeWarning: invalid value encountered in double_scalars\n",
            "  ret = ret.dtype.type(ret / rcount)\n",
            "/usr/local/lib/python3.7/dist-packages/numpy/core/fromnumeric.py:3441: RuntimeWarning: Mean of empty slice.\n",
            "  out=out, **kwargs)\n",
            "/usr/local/lib/python3.7/dist-packages/numpy/core/_methods.py:189: RuntimeWarning: invalid value encountered in double_scalars\n",
            "  ret = ret.dtype.type(ret / rcount)\n"
          ]
        },
        {
          "output_type": "stream",
          "name": "stdout",
          "text": [
            "Now predicting Confirmed Cases...\n",
            "Cross validated root mean squared errors are: [0.946, 2.304, 58.354, 8.957, 10.438]\n",
            "Average RMSE using AdaBoostR2 to predict Confirmed cases is: 16.1998\n",
            "\n",
            "Cross validated root mean squared log errors are: [0.373, 0.549, 2.067, 0.347, 0.26]\n",
            "Average RMSLE using AdaBoostR2 to predict Confirmed cases is: 0.7192000000000001\n"
          ]
        }
      ],
      "source": [
        "# Grabbing x/y train test sets for 'Confirmed' cases\n",
        "confirmed_train_x = train.drop(train.columns[[-1,-2,-3,-4]], axis = 1)\n",
        "confirmed_train_y = train['log_Confirmed']\n",
        "\n",
        "confirmed_test_x = test.drop(test.columns[[-1,-2,-3,-4]], axis = 1)\n",
        "confirmed_test_y = test['log_Confirmed']\n",
        "\n",
        "# Performing 5-fold cross validation on rolling basis for 'Confirmed' RF model\n",
        "all_train = confirmed_train_x.append(confirmed_test_x).to_numpy()\n",
        "all_values = confirmed_train_y.append(confirmed_test_y).to_numpy()\n",
        "\n",
        "tscv = TimeSeriesSplit(n_splits=5)\n",
        "rmse_scores = []\n",
        "rmsle_scores = []\n",
        "\n",
        "for train_index, test_index in tscv.split(all_train):\n",
        "    X_train, X_test = all_train[train_index], all_train[test_index]\n",
        "    y_train, y_test = all_values[train_index], all_values[test_index]\n",
        "    \n",
        "    booster = AdaBoostR2()\n",
        "    booster.fit(X_train, y_train, T = 51, stub_depth = 4, random_state = 117)\n",
        "    predict = booster.predict(X_test)\n",
        "    rmse_scores.append(round(mean_squared_error(y_test, predict),3))\n",
        "    rmsle_scores.append(round(mean_squared_log_error(y_test, predict),3))\n",
        "\n",
        "print('Now predicting Confirmed Cases...')\n",
        "print('Cross validated root mean squared errors are:', rmse_scores)\n",
        "print('Average RMSE using AdaBoostR2 to predict Confirmed cases is:', mean(rmse_scores))\n",
        "print()\n",
        "print('Cross validated root mean squared log errors are:', rmsle_scores)\n",
        "print('Average RMSLE using AdaBoostR2 to predict Confirmed cases is:', mean(rmsle_scores))"
      ],
      "id": "f9015b5a"
    },
    {
      "cell_type": "code",
      "execution_count": null,
      "metadata": {
        "id": "80409852",
        "outputId": "f43c0e85-697e-4722-9b83-dae488ac1ae8",
        "scrolled": true,
        "colab": {
          "base_uri": "https://localhost:8080/",
          "height": 312
        }
      },
      "outputs": [
        {
          "output_type": "execute_result",
          "data": {
            "text/plain": [
              "Text(0, 0.5, '$\\\\hat{y}$')"
            ]
          },
          "metadata": {},
          "execution_count": 49
        },
        {
          "output_type": "display_data",
          "data": {
            "text/plain": [
              "<Figure size 432x288 with 1 Axes>"
            ],
            "image/png": "[encoded data removed]"
          },
          "metadata": {
            "needs_background": "light"
          }
        }
      ],
      "source": [
        "# Plots the observed values, y, against the fittted values, y hat\n",
        "df_pred = pd.DataFrame(list(y_test), columns = ['y_test'])\n",
        "df_pred['predict'] = list(predict)\n",
        "\n",
        "plt.scatter(df_pred['y_test'], df_pred['predict'], alpha = 0.8)\n",
        "plt.title('AdaBoostR2 - Confirmed Cases - Observed vs. Fitted Values')\n",
        "plt.xlabel('y')\n",
        "plt.ylabel('$\\hat{y}$')"
      ],
      "id": "80409852"
    },
    {
      "cell_type": "code",
      "execution_count": null,
      "metadata": {
        "id": "fea5a021",
        "outputId": "9d249815-3b7b-4865-b366-f5efd4a07472",
        "colab": {
          "base_uri": "https://localhost:8080/",
          "height": 111
        }
      },
      "outputs": [
        {
          "output_type": "execute_result",
          "data": {
            "text/plain": [
              "           y_test   predict\n",
              "y_test   1.000000  0.338665\n",
              "predict  0.338665  1.000000"
            ],
            "text/html": [
              "\n",
              "  <div id=\"df-676a0ea4-230a-4b85-91de-0141d2b0f3be\">\n",
              "    <div class=\"colab-df-container\">\n",
              "      <div>\n",
              "<style scoped>\n",
              "    .dataframe tbody tr th:only-of-type {\n",
              "        vertical-align: middle;\n",
              "    }\n",
              "\n",
              "    .dataframe tbody tr th {\n",
              "        vertical-align: top;\n",
              "    }\n",
              "\n",
              "    .dataframe thead th {\n",
              "        text-align: right;\n",
              "    }\n",
              "</style>\n",
              "<table border=\"1\" class=\"dataframe\">\n",
              "  <thead>\n",
              "    <tr style=\"text-align: right;\">\n",
              "      <th></th>\n",
              "      <th>y_test</th>\n",
              "      <th>predict</th>\n",
              "    </tr>\n",
              "  </thead>\n",
              "  <tbody>\n",
              "    <tr>\n",
              "      <th>y_test</th>\n",
              "      <td>1.000000</td>\n",
              "      <td>0.338665</td>\n",
              "    </tr>\n",
              "    <tr>\n",
              "      <th>predict</th>\n",
              "      <td>0.338665</td>\n",
              "      <td>1.000000</td>\n",
              "    </tr>\n",
              "  </tbody>\n",
              "</table>\n",
              "</div>\n",
              "      <button class=\"colab-df-convert\" onclick=\"convertToInteractive('df-676a0ea4-230a-4b85-91de-0141d2b0f3be')\"\n",
              "              title=\"Convert this dataframe to an interactive table.\"\n",
              "              style=\"display:none;\">\n",
              "        \n",
              "  <svg xmlns=\"http://www.w3.org/2000/svg\" height=\"24px\"viewBox=\"0 0 24 24\"\n",
              "       width=\"24px\">\n",
              "    <path d=\"M0 0h24v24H0V0z\" fill=\"none\"/>\n",
              "    <path d=\"M18.56 5.44l.94 2.06.94-2.06 2.06-.94-2.06-.94-.94-2.06-.94 2.06-2.06.94zm-11 1L8.5 8.5l.94-2.06 2.06-.94-2.06-.94L8.5 2.5l-.94 2.06-2.06.94zm10 10l.94 2.06.94-2.06 2.06-.94-2.06-.94-.94-2.06-.94 2.06-2.06.94z\"/><path d=\"M17.41 7.96l-1.37-1.37c-.4-.4-.92-.59-1.43-.59-.52 0-1.04.2-1.43.59L10.3 9.45l-7.72 7.72c-.78.78-.78 2.05 0 2.83L4 21.41c.39.39.9.59 1.41.59.51 0 1.02-.2 1.41-.59l7.78-7.78 2.81-2.81c.8-.78.8-2.07 0-2.86zM5.41 20L4 18.59l7.72-7.72 1.47 1.35L5.41 20z\"/>\n",
              "  </svg>\n",
              "      </button>\n",
              "      \n",
              "  <style>\n",
              "    .colab-df-container {\n",
              "      display:flex;\n",
              "      flex-wrap:wrap;\n",
              "      gap: 12px;\n",
              "    }\n",
              "\n",
              "    .colab-df-convert {\n",
              "      background-color: #E8F0FE;\n",
              "      border: none;\n",
              "      border-radius: 50%;\n",
              "      cursor: pointer;\n",
              "      display: none;\n",
              "      fill: #1967D2;\n",
              "      height: 32px;\n",
              "      padding: 0 0 0 0;\n",
              "      width: 32px;\n",
              "    }\n",
              "\n",
              "    .colab-df-convert:hover {\n",
              "      background-color: #E2EBFA;\n",
              "      box-shadow: 0px 1px 2px rgba(60, 64, 67, 0.3), 0px 1px 3px 1px rgba(60, 64, 67, 0.15);\n",
              "      fill: #174EA6;\n",
              "    }\n",
              "\n",
              "    [theme=dark] .colab-df-convert {\n",
              "      background-color: #3B4455;\n",
              "      fill: #D2E3FC;\n",
              "    }\n",
              "\n",
              "    [theme=dark] .colab-df-convert:hover {\n",
              "      background-color: #434B5C;\n",
              "      box-shadow: 0px 1px 3px 1px rgba(0, 0, 0, 0.15);\n",
              "      filter: drop-shadow(0px 1px 2px rgba(0, 0, 0, 0.3));\n",
              "      fill: #FFFFFF;\n",
              "    }\n",
              "  </style>\n",
              "\n",
              "      <script>\n",
              "        const buttonEl =\n",
              "          document.querySelector('#df-676a0ea4-230a-4b85-91de-0141d2b0f3be button.colab-df-convert');\n",
              "        buttonEl.style.display =\n",
              "          google.colab.kernel.accessAllowed ? 'block' : 'none';\n",
              "\n",
              "        async function convertToInteractive(key) {\n",
              "          const element = document.querySelector('#df-676a0ea4-230a-4b85-91de-0141d2b0f3be');\n",
              "          const dataTable =\n",
              "            await google.colab.kernel.invokeFunction('convertToInteractive',\n",
              "                                                     [key], {});\n",
              "          if (!dataTable) return;\n",
              "\n",
              "          const docLinkHtml = 'Like what you see? Visit the ' +\n",
              "            '<a target=\"_blank\" href=https://colab.research.google.com/notebooks/data_table.ipynb>data table notebook</a>'\n",
              "            + ' to learn more about interactive tables.';\n",
              "          element.innerHTML = '';\n",
              "          dataTable['output_type'] = 'display_data';\n",
              "          await google.colab.output.renderOutput(dataTable, element);\n",
              "          const docLink = document.createElement('div');\n",
              "          docLink.innerHTML = docLinkHtml;\n",
              "          element.appendChild(docLink);\n",
              "        }\n",
              "      </script>\n",
              "    </div>\n",
              "  </div>\n",
              "  "
            ]
          },
          "metadata": {},
          "execution_count": 50
        }
      ],
      "source": [
        "df_pred.corr()"
      ],
      "id": "fea5a021"
    },
    {
      "cell_type": "code",
      "execution_count": 51,
      "metadata": {
        "id": "04cee49a",
        "colab": {
          "base_uri": "https://localhost:8080/"
        },
        "outputId": "89401ef9-0906-4899-ec0b-8432ed06636e"
      },
      "outputs": [
        {
          "output_type": "stream",
          "name": "stdout",
          "text": [
            "Now predicting Deaths Cases...\n",
            "Cross validated root mean squared errors are: [0.011, 0.217, 1.203, 3.374, 5.093]\n",
            "Average RMSE using AdaBoostR2 to predict Deaths cases is: 1.9796\n",
            "\n",
            "Cross validated root mean squared log errors are: [0.004, 0.071, 0.326, 0.565, 0.558]\n",
            "Average RMSLE using AdaBoostR2 to predict Deaths cases is: 0.3048\n"
          ]
        }
      ],
      "source": [
        "# Grabbing x/y train test sets for 'Deaths' cases\n",
        "deaths_train_x = train.drop(train.columns[[-1,-2,-3,-4]], axis = 1)\n",
        "deaths_train_y = train['log_Deaths']\n",
        "\n",
        "deaths_test_x = test.drop(test.columns[[-1,-2,-3,-4]], axis = 1)\n",
        "deaths_test_y = test['log_Deaths']\n",
        "\n",
        "# Performing 5-fold cross validation on rolling basis for 'Deaths' RF model\n",
        "all_train = deaths_train_x.append(deaths_test_x).to_numpy()\n",
        "all_values = deaths_train_y.append(deaths_test_y).to_numpy()\n",
        "\n",
        "tscv = TimeSeriesSplit(n_splits=5)\n",
        "rmse_scores = []\n",
        "rmsle_scores = []\n",
        "\n",
        "for train_index, test_index in tscv.split(all_train):\n",
        "    X_train, X_test = all_train[train_index], all_train[test_index]\n",
        "    y_train, y_test = all_values[train_index], all_values[test_index]\n",
        "    \n",
        "    booster = AdaBoostR2()\n",
        "    booster.fit(X_train, y_train, T = 60, stub_depth = 5, random_state = 117)\n",
        "    predict = booster.predict(X_test)\n",
        "    rmse_scores.append(round(mean_squared_error(y_test, predict),3))\n",
        "    rmsle_scores.append(round(mean_squared_log_error(y_test, predict),3))\n",
        "\n",
        "print('Now predicting Deaths Cases...')\n",
        "print('Cross validated root mean squared errors are:', rmse_scores)\n",
        "print('Average RMSE using AdaBoostR2 to predict Deaths cases is:', mean(rmse_scores))\n",
        "print()\n",
        "print('Cross validated root mean squared log errors are:', rmsle_scores)\n",
        "print('Average RMSLE using AdaBoostR2 to predict Deaths cases is:', mean(rmsle_scores))"
      ],
      "id": "04cee49a"
    },
    {
      "cell_type": "code",
      "execution_count": 52,
      "metadata": {
        "id": "3a73a4a6",
        "outputId": "1316f088-279f-426e-d723-8a736de4206e",
        "scrolled": true,
        "colab": {
          "base_uri": "https://localhost:8080/",
          "height": 312
        }
      },
      "outputs": [
        {
          "output_type": "execute_result",
          "data": {
            "text/plain": [
              "Text(0, 0.5, '$\\\\hat{y}$')"
            ]
          },
          "metadata": {},
          "execution_count": 52
        },
        {
          "output_type": "display_data",
          "data": {
            "text/plain": [
              "<Figure size 432x288 with 1 Axes>"
            ],
            "image/png": "[encoded data removed]"
          },
          "metadata": {
            "needs_background": "light"
          }
        }
      ],
      "source": [
        "# Plots the observed values, y, against the fittted values, y hat\n",
        "df_pred = pd.DataFrame(list(y_test), columns = ['y_test'])\n",
        "df_pred['predict'] = list(predict)\n",
        "\n",
        "plt.scatter(df_pred['y_test'], df_pred['predict'], alpha = 0.8)\n",
        "plt.title('AdaBoostR2 - Deaths - Observed vs. Fitted Values')\n",
        "plt.xlabel('y')\n",
        "plt.ylabel('$\\hat{y}$')"
      ],
      "id": "3a73a4a6"
    },
    {
      "cell_type": "code",
      "execution_count": 53,
      "metadata": {
        "id": "1786dffe",
        "outputId": "1db86de4-b2dc-4e01-d30b-a16653a0153f",
        "colab": {
          "base_uri": "https://localhost:8080/",
          "height": 111
        }
      },
      "outputs": [
        {
          "output_type": "execute_result",
          "data": {
            "text/plain": [
              "           y_test   predict\n",
              "y_test   1.000000  0.464702\n",
              "predict  0.464702  1.000000"
            ],
            "text/html": [
              "\n",
              "  <div id=\"df-68956344-6d0a-422e-95e9-bbf73c23d654\">\n",
              "    <div class=\"colab-df-container\">\n",
              "      <div>\n",
              "<style scoped>\n",
              "    .dataframe tbody tr th:only-of-type {\n",
              "        vertical-align: middle;\n",
              "    }\n",
              "\n",
              "    .dataframe tbody tr th {\n",
              "        vertical-align: top;\n",
              "    }\n",
              "\n",
              "    .dataframe thead th {\n",
              "        text-align: right;\n",
              "    }\n",
              "</style>\n",
              "<table border=\"1\" class=\"dataframe\">\n",
              "  <thead>\n",
              "    <tr style=\"text-align: right;\">\n",
              "      <th></th>\n",
              "      <th>y_test</th>\n",
              "      <th>predict</th>\n",
              "    </tr>\n",
              "  </thead>\n",
              "  <tbody>\n",
              "    <tr>\n",
              "      <th>y_test</th>\n",
              "      <td>1.000000</td>\n",
              "      <td>0.464702</td>\n",
              "    </tr>\n",
              "    <tr>\n",
              "      <th>predict</th>\n",
              "      <td>0.464702</td>\n",
              "      <td>1.000000</td>\n",
              "    </tr>\n",
              "  </tbody>\n",
              "</table>\n",
              "</div>\n",
              "      <button class=\"colab-df-convert\" onclick=\"convertToInteractive('df-68956344-6d0a-422e-95e9-bbf73c23d654')\"\n",
              "              title=\"Convert this dataframe to an interactive table.\"\n",
              "              style=\"display:none;\">\n",
              "        \n",
              "  <svg xmlns=\"http://www.w3.org/2000/svg\" height=\"24px\"viewBox=\"0 0 24 24\"\n",
              "       width=\"24px\">\n",
              "    <path d=\"M0 0h24v24H0V0z\" fill=\"none\"/>\n",
              "    <path d=\"M18.56 5.44l.94 2.06.94-2.06 2.06-.94-2.06-.94-.94-2.06-.94 2.06-2.06.94zm-11 1L8.5 8.5l.94-2.06 2.06-.94-2.06-.94L8.5 2.5l-.94 2.06-2.06.94zm10 10l.94 2.06.94-2.06 2.06-.94-2.06-.94-.94-2.06-.94 2.06-2.06.94z\"/><path d=\"M17.41 7.96l-1.37-1.37c-.4-.4-.92-.59-1.43-.59-.52 0-1.04.2-1.43.59L10.3 9.45l-7.72 7.72c-.78.78-.78 2.05 0 2.83L4 21.41c.39.39.9.59 1.41.59.51 0 1.02-.2 1.41-.59l7.78-7.78 2.81-2.81c.8-.78.8-2.07 0-2.86zM5.41 20L4 18.59l7.72-7.72 1.47 1.35L5.41 20z\"/>\n",
              "  </svg>\n",
              "      </button>\n",
              "      \n",
              "  <style>\n",
              "    .colab-df-container {\n",
              "      display:flex;\n",
              "      flex-wrap:wrap;\n",
              "      gap: 12px;\n",
              "    }\n",
              "\n",
              "    .colab-df-convert {\n",
              "      background-color: #E8F0FE;\n",
              "      border: none;\n",
              "      border-radius: 50%;\n",
              "      cursor: pointer;\n",
              "      display: none;\n",
              "      fill: #1967D2;\n",
              "      height: 32px;\n",
              "      padding: 0 0 0 0;\n",
              "      width: 32px;\n",
              "    }\n",
              "\n",
              "    .colab-df-convert:hover {\n",
              "      background-color: #E2EBFA;\n",
              "      box-shadow: 0px 1px 2px rgba(60, 64, 67, 0.3), 0px 1px 3px 1px rgba(60, 64, 67, 0.15);\n",
              "      fill: #174EA6;\n",
              "    }\n",
              "\n",
              "    [theme=dark] .colab-df-convert {\n",
              "      background-color: #3B4455;\n",
              "      fill: #D2E3FC;\n",
              "    }\n",
              "\n",
              "    [theme=dark] .colab-df-convert:hover {\n",
              "      background-color: #434B5C;\n",
              "      box-shadow: 0px 1px 3px 1px rgba(0, 0, 0, 0.15);\n",
              "      filter: drop-shadow(0px 1px 2px rgba(0, 0, 0, 0.3));\n",
              "      fill: #FFFFFF;\n",
              "    }\n",
              "  </style>\n",
              "\n",
              "      <script>\n",
              "        const buttonEl =\n",
              "          document.querySelector('#df-68956344-6d0a-422e-95e9-bbf73c23d654 button.colab-df-convert');\n",
              "        buttonEl.style.display =\n",
              "          google.colab.kernel.accessAllowed ? 'block' : 'none';\n",
              "\n",
              "        async function convertToInteractive(key) {\n",
              "          const element = document.querySelector('#df-68956344-6d0a-422e-95e9-bbf73c23d654');\n",
              "          const dataTable =\n",
              "            await google.colab.kernel.invokeFunction('convertToInteractive',\n",
              "                                                     [key], {});\n",
              "          if (!dataTable) return;\n",
              "\n",
              "          const docLinkHtml = 'Like what you see? Visit the ' +\n",
              "            '<a target=\"_blank\" href=https://colab.research.google.com/notebooks/data_table.ipynb>data table notebook</a>'\n",
              "            + ' to learn more about interactive tables.';\n",
              "          element.innerHTML = '';\n",
              "          dataTable['output_type'] = 'display_data';\n",
              "          await google.colab.output.renderOutput(dataTable, element);\n",
              "          const docLink = document.createElement('div');\n",
              "          docLink.innerHTML = docLinkHtml;\n",
              "          element.appendChild(docLink);\n",
              "        }\n",
              "      </script>\n",
              "    </div>\n",
              "  </div>\n",
              "  "
            ]
          },
          "metadata": {},
          "execution_count": 53
        }
      ],
      "source": [
        "df_pred.corr()"
      ],
      "id": "1786dffe"
    },
    {
      "cell_type": "code",
      "execution_count": 54,
      "metadata": {
        "id": "8c30a687",
        "colab": {
          "base_uri": "https://localhost:8080/"
        },
        "outputId": "b6066851-b313-4d49-f58f-b46afedb3201"
      },
      "outputs": [
        {
          "output_type": "stream",
          "name": "stdout",
          "text": [
            "Now predicting Recovered Cases...\n",
            "Cross validated root mean squared errors are: [0.195, 1.185, 2.205, 4.963, 7.775]\n",
            "Average RMSE using AdaBoostR2 to predict Recovered cases is: 3.2646\n",
            "\n",
            "Cross validated root mean squared log errors are: [0.055, 0.428, 0.595, 0.627, 0.499]\n",
            "Average RMSLE using AdaBoostR2 to predict Recovered cases is: 0.44079999999999997\n"
          ]
        }
      ],
      "source": [
        "# Grabbing x/y train test sets for 'Recovered' cases\n",
        "recovered_train_x = train.drop(train.columns[[-1,-2,-3,-4]], axis = 1)\n",
        "recovered_train_y = train['log_Recovered']\n",
        "\n",
        "recovered_test_x = test.drop(test.columns[[-1,-2,-3,-4]], axis = 1)\n",
        "recovered_test_y = test['log_Recovered']\n",
        "\n",
        "# Performing 5-fold cross validation on rolling basis for 'Deaths' RF model\n",
        "all_train = recovered_train_x.append(recovered_test_x).to_numpy()\n",
        "all_values = recovered_train_y.append(recovered_test_y).to_numpy()\n",
        "\n",
        "tscv = TimeSeriesSplit(n_splits=5)\n",
        "rmse_scores = []\n",
        "rmsle_scores = []\n",
        "\n",
        "for train_index, test_index in tscv.split(all_train):\n",
        "    X_train, X_test = all_train[train_index], all_train[test_index]\n",
        "    y_train, y_test = all_values[train_index], all_values[test_index]\n",
        "    \n",
        "    booster = AdaBoostR2()\n",
        "    booster.fit(X_train, y_train, T = 50, stub_depth = 4, random_state = 123)\n",
        "    predict = booster.predict(X_test)\n",
        "    rmse_scores.append(round(mean_squared_error(y_test, predict),3))\n",
        "    rmsle_scores.append(round(mean_squared_log_error(y_test, predict),3))\n",
        "\n",
        "print('Now predicting Recovered Cases...')\n",
        "print('Cross validated root mean squared errors are:', rmse_scores)\n",
        "print('Average RMSE using AdaBoostR2 to predict Recovered cases is:', mean(rmse_scores))\n",
        "print()\n",
        "print('Cross validated root mean squared log errors are:', rmsle_scores)\n",
        "print('Average RMSLE using AdaBoostR2 to predict Recovered cases is:', mean(rmsle_scores))"
      ],
      "id": "8c30a687"
    },
    {
      "cell_type": "code",
      "execution_count": 55,
      "metadata": {
        "id": "47e2c60e",
        "outputId": "1a65bd06-c70d-4e83-c1b1-3a375e33f044",
        "scrolled": true,
        "colab": {
          "base_uri": "https://localhost:8080/",
          "height": 312
        }
      },
      "outputs": [
        {
          "output_type": "execute_result",
          "data": {
            "text/plain": [
              "Text(0, 0.5, '$\\\\hat{y}$')"
            ]
          },
          "metadata": {},
          "execution_count": 55
        },
        {
          "output_type": "display_data",
          "data": {
            "text/plain": [
              "<Figure size 432x288 with 1 Axes>"
            ],
            "image/png": "[encoded data removed]"
          },
          "metadata": {
            "needs_background": "light"
          }
        }
      ],
      "source": [
        "# Plots the observed values, y, against the fittted values, y hat\n",
        "df_pred = pd.DataFrame(list(y_test), columns = ['y_test'])\n",
        "df_pred['predict'] = list(predict)\n",
        "\n",
        "plt.scatter(df_pred['y_test'], df_pred['predict'], alpha = 0.8)\n",
        "plt.title('AdaBoostR2  - Recovered Cases - Observed vs. Fitted Values')\n",
        "plt.xlabel('y')\n",
        "plt.ylabel('$\\hat{y}$')"
      ],
      "id": "47e2c60e"
    },
    {
      "cell_type": "code",
      "execution_count": 56,
      "metadata": {
        "id": "9369f6b3",
        "outputId": "041db1cb-5291-42be-98ae-9ce4d6fb9a34",
        "colab": {
          "base_uri": "https://localhost:8080/",
          "height": 111
        }
      },
      "outputs": [
        {
          "output_type": "execute_result",
          "data": {
            "text/plain": [
              "           y_test   predict\n",
              "y_test   1.000000  0.442412\n",
              "predict  0.442412  1.000000"
            ],
            "text/html": [
              "\n",
              "  <div id=\"df-a4863399-ca0a-4244-ac4b-980939451a2b\">\n",
              "    <div class=\"colab-df-container\">\n",
              "      <div>\n",
              "<style scoped>\n",
              "    .dataframe tbody tr th:only-of-type {\n",
              "        vertical-align: middle;\n",
              "    }\n",
              "\n",
              "    .dataframe tbody tr th {\n",
              "        vertical-align: top;\n",
              "    }\n",
              "\n",
              "    .dataframe thead th {\n",
              "        text-align: right;\n",
              "    }\n",
              "</style>\n",
              "<table border=\"1\" class=\"dataframe\">\n",
              "  <thead>\n",
              "    <tr style=\"text-align: right;\">\n",
              "      <th></th>\n",
              "      <th>y_test</th>\n",
              "      <th>predict</th>\n",
              "    </tr>\n",
              "  </thead>\n",
              "  <tbody>\n",
              "    <tr>\n",
              "      <th>y_test</th>\n",
              "      <td>1.000000</td>\n",
              "      <td>0.442412</td>\n",
              "    </tr>\n",
              "    <tr>\n",
              "      <th>predict</th>\n",
              "      <td>0.442412</td>\n",
              "      <td>1.000000</td>\n",
              "    </tr>\n",
              "  </tbody>\n",
              "</table>\n",
              "</div>\n",
              "      <button class=\"colab-df-convert\" onclick=\"convertToInteractive('df-a4863399-ca0a-4244-ac4b-980939451a2b')\"\n",
              "              title=\"Convert this dataframe to an interactive table.\"\n",
              "              style=\"display:none;\">\n",
              "        \n",
              "  <svg xmlns=\"http://www.w3.org/2000/svg\" height=\"24px\"viewBox=\"0 0 24 24\"\n",
              "       width=\"24px\">\n",
              "    <path d=\"M0 0h24v24H0V0z\" fill=\"none\"/>\n",
              "    <path d=\"M18.56 5.44l.94 2.06.94-2.06 2.06-.94-2.06-.94-.94-2.06-.94 2.06-2.06.94zm-11 1L8.5 8.5l.94-2.06 2.06-.94-2.06-.94L8.5 2.5l-.94 2.06-2.06.94zm10 10l.94 2.06.94-2.06 2.06-.94-2.06-.94-.94-2.06-.94 2.06-2.06.94z\"/><path d=\"M17.41 7.96l-1.37-1.37c-.4-.4-.92-.59-1.43-.59-.52 0-1.04.2-1.43.59L10.3 9.45l-7.72 7.72c-.78.78-.78 2.05 0 2.83L4 21.41c.39.39.9.59 1.41.59.51 0 1.02-.2 1.41-.59l7.78-7.78 2.81-2.81c.8-.78.8-2.07 0-2.86zM5.41 20L4 18.59l7.72-7.72 1.47 1.35L5.41 20z\"/>\n",
              "  </svg>\n",
              "      </button>\n",
              "      \n",
              "  <style>\n",
              "    .colab-df-container {\n",
              "      display:flex;\n",
              "      flex-wrap:wrap;\n",
              "      gap: 12px;\n",
              "    }\n",
              "\n",
              "    .colab-df-convert {\n",
              "      background-color: #E8F0FE;\n",
              "      border: none;\n",
              "      border-radius: 50%;\n",
              "      cursor: pointer;\n",
              "      display: none;\n",
              "      fill: #1967D2;\n",
              "      height: 32px;\n",
              "      padding: 0 0 0 0;\n",
              "      width: 32px;\n",
              "    }\n",
              "\n",
              "    .colab-df-convert:hover {\n",
              "      background-color: #E2EBFA;\n",
              "      box-shadow: 0px 1px 2px rgba(60, 64, 67, 0.3), 0px 1px 3px 1px rgba(60, 64, 67, 0.15);\n",
              "      fill: #174EA6;\n",
              "    }\n",
              "\n",
              "    [theme=dark] .colab-df-convert {\n",
              "      background-color: #3B4455;\n",
              "      fill: #D2E3FC;\n",
              "    }\n",
              "\n",
              "    [theme=dark] .colab-df-convert:hover {\n",
              "      background-color: #434B5C;\n",
              "      box-shadow: 0px 1px 3px 1px rgba(0, 0, 0, 0.15);\n",
              "      filter: drop-shadow(0px 1px 2px rgba(0, 0, 0, 0.3));\n",
              "      fill: #FFFFFF;\n",
              "    }\n",
              "  </style>\n",
              "\n",
              "      <script>\n",
              "        const buttonEl =\n",
              "          document.querySelector('#df-a4863399-ca0a-4244-ac4b-980939451a2b button.colab-df-convert');\n",
              "        buttonEl.style.display =\n",
              "          google.colab.kernel.accessAllowed ? 'block' : 'none';\n",
              "\n",
              "        async function convertToInteractive(key) {\n",
              "          const element = document.querySelector('#df-a4863399-ca0a-4244-ac4b-980939451a2b');\n",
              "          const dataTable =\n",
              "            await google.colab.kernel.invokeFunction('convertToInteractive',\n",
              "                                                     [key], {});\n",
              "          if (!dataTable) return;\n",
              "\n",
              "          const docLinkHtml = 'Like what you see? Visit the ' +\n",
              "            '<a target=\"_blank\" href=https://colab.research.google.com/notebooks/data_table.ipynb>data table notebook</a>'\n",
              "            + ' to learn more about interactive tables.';\n",
              "          element.innerHTML = '';\n",
              "          dataTable['output_type'] = 'display_data';\n",
              "          await google.colab.output.renderOutput(dataTable, element);\n",
              "          const docLink = document.createElement('div');\n",
              "          docLink.innerHTML = docLinkHtml;\n",
              "          element.appendChild(docLink);\n",
              "        }\n",
              "      </script>\n",
              "    </div>\n",
              "  </div>\n",
              "  "
            ]
          },
          "metadata": {},
          "execution_count": 56
        }
      ],
      "source": [
        "df_pred.corr()"
      ],
      "id": "9369f6b3"
    },
    {
      "cell_type": "code",
      "execution_count": 57,
      "metadata": {
        "id": "b88baf13",
        "outputId": "4ac0eece-f509-49ec-f166-b1b8522ceaec",
        "colab": {
          "base_uri": "https://localhost:8080/"
        }
      },
      "outputs": [
        {
          "output_type": "stream",
          "name": "stdout",
          "text": [
            "Now predicting Active Cases...\n",
            "Cross validated root mean squared errors are: [0.195, 1.185, 6.791, 8.375, 8.299]\n",
            "Average RMSE using AdaBoostR2 to predict Active cases is: 4.969\n",
            "\n",
            "Cross validated root mean squared log errors are: [0.055, 0.428, 0.612, 0.347, 0.27]\n",
            "Average RMSLE using AdaBoostR2 to predict Active cases is: 0.3424\n"
          ]
        }
      ],
      "source": [
        "# Grabbing x/y train test sets for 'Active' cases\n",
        "active_train_x = train.drop(train.columns[[-1,-2,-3,-4]], axis = 1)\n",
        "active_train_y = train['log_Active']\n",
        "\n",
        "active_test_x = test.drop(test.columns[[-1,-2,-3,-4]], axis = 1)\n",
        "active_test_y = test['log_Active']\n",
        "\n",
        "# Performing 5-fold cross validation on rolling basis for 'Active' RF model\n",
        "all_train = recovered_train_x.append(active_test_x).to_numpy()\n",
        "all_values = recovered_train_y.append(active_test_y).to_numpy()\n",
        "\n",
        "tscv = TimeSeriesSplit(n_splits=5)\n",
        "rmse_scores = []\n",
        "rmsle_scores = []\n",
        "\n",
        "for train_index, test_index in tscv.split(all_train):\n",
        "    X_train, X_test = all_train[train_index], all_train[test_index]\n",
        "    y_train, y_test = all_values[train_index], all_values[test_index]\n",
        "    \n",
        "    booster = AdaBoostR2()\n",
        "    booster.fit(X_train, y_train, T = 50, stub_depth = 4, random_state = 123)\n",
        "    predict = booster.predict(X_test)\n",
        "    rmse_scores.append(round(mean_squared_error(y_test, predict),3))\n",
        "    rmsle_scores.append(round(mean_squared_log_error(y_test, predict),3))\n",
        "\n",
        "print('Now predicting Active Cases...')\n",
        "print('Cross validated root mean squared errors are:', rmse_scores)\n",
        "print('Average RMSE using AdaBoostR2 to predict Active cases is:', mean(rmse_scores))\n",
        "print()\n",
        "print('Cross validated root mean squared log errors are:', rmsle_scores)\n",
        "print('Average RMSLE using AdaBoostR2 to predict Active cases is:', mean(rmsle_scores))"
      ],
      "id": "b88baf13"
    },
    {
      "cell_type": "code",
      "execution_count": 58,
      "metadata": {
        "id": "48614b67",
        "outputId": "04048b26-10c2-417c-bfce-1a93a2f48c22",
        "scrolled": true,
        "colab": {
          "base_uri": "https://localhost:8080/",
          "height": 312
        }
      },
      "outputs": [
        {
          "output_type": "execute_result",
          "data": {
            "text/plain": [
              "Text(0, 0.5, '$\\\\hat{y}$')"
            ]
          },
          "metadata": {},
          "execution_count": 58
        },
        {
          "output_type": "display_data",
          "data": {
            "text/plain": [
              "<Figure size 432x288 with 1 Axes>"
            ],
            "image/png": "[encoded data removed]"
          },
          "metadata": {
            "needs_background": "light"
          }
        }
      ],
      "source": [
        "# Plots the observed values, y, against the fittted values, y hat\n",
        "df_pred = pd.DataFrame(list(y_test), columns = ['y_test'])\n",
        "df_pred['predict'] = list(predict)\n",
        "\n",
        "plt.scatter(df_pred['y_test'], df_pred['predict'], alpha = 0.8)\n",
        "plt.title('AdaBoostR2  - Active Cases - Observed vs. Fitted Values')\n",
        "plt.xlabel('y')\n",
        "plt.ylabel('$\\hat{y}$')"
      ],
      "id": "48614b67"
    },
    {
      "cell_type": "code",
      "execution_count": 59,
      "metadata": {
        "id": "abb9e36d",
        "outputId": "6b40c8c3-9ade-41d7-cacb-4a16f91d40b8",
        "scrolled": true,
        "colab": {
          "base_uri": "https://localhost:8080/",
          "height": 111
        }
      },
      "outputs": [
        {
          "output_type": "execute_result",
          "data": {
            "text/plain": [
              "           y_test   predict\n",
              "y_test   1.000000  0.297784\n",
              "predict  0.297784  1.000000"
            ],
            "text/html": [
              "\n",
              "  <div id=\"df-134926a1-4e6b-4675-a45b-9920f515caf4\">\n",
              "    <div class=\"colab-df-container\">\n",
              "      <div>\n",
              "<style scoped>\n",
              "    .dataframe tbody tr th:only-of-type {\n",
              "        vertical-align: middle;\n",
              "    }\n",
              "\n",
              "    .dataframe tbody tr th {\n",
              "        vertical-align: top;\n",
              "    }\n",
              "\n",
              "    .dataframe thead th {\n",
              "        text-align: right;\n",
              "    }\n",
              "</style>\n",
              "<table border=\"1\" class=\"dataframe\">\n",
              "  <thead>\n",
              "    <tr style=\"text-align: right;\">\n",
              "      <th></th>\n",
              "      <th>y_test</th>\n",
              "      <th>predict</th>\n",
              "    </tr>\n",
              "  </thead>\n",
              "  <tbody>\n",
              "    <tr>\n",
              "      <th>y_test</th>\n",
              "      <td>1.000000</td>\n",
              "      <td>0.297784</td>\n",
              "    </tr>\n",
              "    <tr>\n",
              "      <th>predict</th>\n",
              "      <td>0.297784</td>\n",
              "      <td>1.000000</td>\n",
              "    </tr>\n",
              "  </tbody>\n",
              "</table>\n",
              "</div>\n",
              "      <button class=\"colab-df-convert\" onclick=\"convertToInteractive('df-134926a1-4e6b-4675-a45b-9920f515caf4')\"\n",
              "              title=\"Convert this dataframe to an interactive table.\"\n",
              "              style=\"display:none;\">\n",
              "        \n",
              "  <svg xmlns=\"http://www.w3.org/2000/svg\" height=\"24px\"viewBox=\"0 0 24 24\"\n",
              "       width=\"24px\">\n",
              "    <path d=\"M0 0h24v24H0V0z\" fill=\"none\"/>\n",
              "    <path d=\"M18.56 5.44l.94 2.06.94-2.06 2.06-.94-2.06-.94-.94-2.06-.94 2.06-2.06.94zm-11 1L8.5 8.5l.94-2.06 2.06-.94-2.06-.94L8.5 2.5l-.94 2.06-2.06.94zm10 10l.94 2.06.94-2.06 2.06-.94-2.06-.94-.94-2.06-.94 2.06-2.06.94z\"/><path d=\"M17.41 7.96l-1.37-1.37c-.4-.4-.92-.59-1.43-.59-.52 0-1.04.2-1.43.59L10.3 9.45l-7.72 7.72c-.78.78-.78 2.05 0 2.83L4 21.41c.39.39.9.59 1.41.59.51 0 1.02-.2 1.41-.59l7.78-7.78 2.81-2.81c.8-.78.8-2.07 0-2.86zM5.41 20L4 18.59l7.72-7.72 1.47 1.35L5.41 20z\"/>\n",
              "  </svg>\n",
              "      </button>\n",
              "      \n",
              "  <style>\n",
              "    .colab-df-container {\n",
              "      display:flex;\n",
              "      flex-wrap:wrap;\n",
              "      gap: 12px;\n",
              "    }\n",
              "\n",
              "    .colab-df-convert {\n",
              "      background-color: #E8F0FE;\n",
              "      border: none;\n",
              "      border-radius: 50%;\n",
              "      cursor: pointer;\n",
              "      display: none;\n",
              "      fill: #1967D2;\n",
              "      height: 32px;\n",
              "      padding: 0 0 0 0;\n",
              "      width: 32px;\n",
              "    }\n",
              "\n",
              "    .colab-df-convert:hover {\n",
              "      background-color: #E2EBFA;\n",
              "      box-shadow: 0px 1px 2px rgba(60, 64, 67, 0.3), 0px 1px 3px 1px rgba(60, 64, 67, 0.15);\n",
              "      fill: #174EA6;\n",
              "    }\n",
              "\n",
              "    [theme=dark] .colab-df-convert {\n",
              "      background-color: #3B4455;\n",
              "      fill: #D2E3FC;\n",
              "    }\n",
              "\n",
              "    [theme=dark] .colab-df-convert:hover {\n",
              "      background-color: #434B5C;\n",
              "      box-shadow: 0px 1px 3px 1px rgba(0, 0, 0, 0.15);\n",
              "      filter: drop-shadow(0px 1px 2px rgba(0, 0, 0, 0.3));\n",
              "      fill: #FFFFFF;\n",
              "    }\n",
              "  </style>\n",
              "\n",
              "      <script>\n",
              "        const buttonEl =\n",
              "          document.querySelector('#df-134926a1-4e6b-4675-a45b-9920f515caf4 button.colab-df-convert');\n",
              "        buttonEl.style.display =\n",
              "          google.colab.kernel.accessAllowed ? 'block' : 'none';\n",
              "\n",
              "        async function convertToInteractive(key) {\n",
              "          const element = document.querySelector('#df-134926a1-4e6b-4675-a45b-9920f515caf4');\n",
              "          const dataTable =\n",
              "            await google.colab.kernel.invokeFunction('convertToInteractive',\n",
              "                                                     [key], {});\n",
              "          if (!dataTable) return;\n",
              "\n",
              "          const docLinkHtml = 'Like what you see? Visit the ' +\n",
              "            '<a target=\"_blank\" href=https://colab.research.google.com/notebooks/data_table.ipynb>data table notebook</a>'\n",
              "            + ' to learn more about interactive tables.';\n",
              "          element.innerHTML = '';\n",
              "          dataTable['output_type'] = 'display_data';\n",
              "          await google.colab.output.renderOutput(dataTable, element);\n",
              "          const docLink = document.createElement('div');\n",
              "          docLink.innerHTML = docLinkHtml;\n",
              "          element.appendChild(docLink);\n",
              "        }\n",
              "      </script>\n",
              "    </div>\n",
              "  </div>\n",
              "  "
            ]
          },
          "metadata": {},
          "execution_count": 59
        }
      ],
      "source": [
        "df_pred.corr()"
      ],
      "id": "abb9e36d"
    }
  ],
  "metadata": {
    "colab": {
      "collapsed_sections": [],
      "name": "AdaBoostR2Org.ipynb",
      "provenance": []
    },
    "interpreter": {
      "hash": "31f2aee4e71d21fbe5cf8b01ff0e069b9275f58929596ceb00d14d90e3e16cd6"
    },
    "kernelspec": {
      "display_name": "Python 3.8.10 64-bit",
      "language": "python",
      "name": "python3"
    },
    "language_info": {
      "codemirror_mode": {
        "name": "ipython",
        "version": 3
      },
      "file_extension": ".py",
      "mimetype": "text/x-python",
      "name": "python",
      "nbconvert_exporter": "python",
      "pygments_lexer": "ipython3",
      "version": "3.8.10"
    }
  },
  "nbformat": 4,
  "nbformat_minor": 5
}