{
  "cells": [
    {
      "cell_type": "code",
      "execution_count": 22,
      "id": "55dbf682",
      "metadata": {
        "id": "55dbf682"
      },
      "outputs": [],
      "source": [
        "from sklearn.tree import DecisionTreeRegressor\n",
        "from sklearn.ensemble import AdaBoostRegressor\n",
        "from sklearn.metrics import mean_squared_log_error, mean_squared_error\n",
        "from sklearn.model_selection import TimeSeriesSplit\n",
        "from statistics import mean\n",
        "import matplotlib.pyplot as plt\n",
        "\n",
        "import pandas as pd\n",
        "from os.path import exists\n",
        "import warnings\n",
        "from datetime import date\n",
        "import math\n",
        "\n",
        "warnings.filterwarnings('ignore')"
      ]
    },
    {
      "cell_type": "code",
      "execution_count": 2,
      "id": "485d1cca",
      "metadata": {
        "id": "485d1cca"
      },
      "outputs": [],
      "source": [
        "train = pd.read_csv(\"train.csv\")\n",
        "test = pd.read_csv(\"test.csv\")"
      ]
    },
    {
      "cell_type": "code",
      "execution_count": 3,
      "id": "c6609042",
      "metadata": {
        "id": "c6609042"
      },
      "outputs": [],
      "source": [
        "train = train.drop('Unnamed: 0', axis=1)\n",
        "test = test.drop('Unnamed: 0', axis=1)"
      ]
    },
    {
      "cell_type": "code",
      "execution_count": 4,
      "id": "51d678f6",
      "metadata": {
        "id": "51d678f6"
      },
      "outputs": [],
      "source": [
        "def date_to_int(d):\n",
        "    initial_date = date(2020, 1, 21)\n",
        "    curr_date = [int(x) for x in d.split('-')]\n",
        "    final_date = date(curr_date[0], curr_date[1], curr_date[2])\n",
        "    delta = final_date - initial_date\n",
        "    return delta.days"
      ]
    },
    {
      "cell_type": "code",
      "execution_count": 5,
      "id": "414d0a89",
      "metadata": {
        "id": "414d0a89"
      },
      "outputs": [],
      "source": [
        "one_hot_train = pd.get_dummies(train['Country'])\n",
        "train = train.join(one_hot_train)\n",
        "train['Day'] = train['Date'].apply(lambda x: date_to_int(x))"
      ]
    },
    {
      "cell_type": "code",
      "execution_count": 6,
      "id": "7e2b9b69",
      "metadata": {
        "id": "7e2b9b69"
      },
      "outputs": [],
      "source": [
        "one_hot_test = pd.get_dummies(test['Country'])\n",
        "test = test.join(one_hot_train)\n",
        "test['Day'] = test['Date'].apply(lambda x: date_to_int(x))"
      ]
    },
    {
      "cell_type": "code",
      "execution_count": 7,
      "id": "982a3b8d",
      "metadata": {
        "id": "982a3b8d"
      },
      "outputs": [],
      "source": [
        "train['log_Confirmed'] = train['Confirmed'].apply(lambda x: round(math.log(x+1),3))\n",
        "train['log_Deaths'] = train['Deaths'].apply(lambda x: round(math.log(x+1),3))\n",
        "train['log_Recovered'] = train['Recovered'].apply(lambda x: round(math.log(x+1),3))\n",
        "train['log_Active'] = train['Active'].apply(lambda x: round(math.log(x+1),3))"
      ]
    },
    {
      "cell_type": "code",
      "execution_count": 8,
      "id": "e461f246",
      "metadata": {
        "id": "e461f246"
      },
      "outputs": [],
      "source": [
        "test['log_Confirmed'] = test['Confirmed'].apply(lambda x: round(math.log(x+1),3))\n",
        "test['log_Deaths'] = test['Deaths'].apply(lambda x: round(math.log(x+1),3))\n",
        "test['log_Recovered'] = test['Recovered'].apply(lambda x: round(math.log(x+1),3))\n",
        "test['log_Active'] = test['Active'].apply(lambda x: round(math.log(x+1),3))"
      ]
    },
    {
      "cell_type": "code",
      "execution_count": 11,
      "id": "968aa053",
      "metadata": {
        "id": "968aa053"
      },
      "outputs": [],
      "source": [
        "train.drop(train.iloc[:, 0:6], inplace = True, axis = 1)\n",
        "test.drop(test.iloc[:, 0:6], inplace = True, axis = 1)"
      ]
    },
    {
      "cell_type": "code",
      "execution_count": 32,
      "id": "b42f1a87",
      "metadata": {
        "colab": {
          "base_uri": "https://localhost:8080/"
        },
        "id": "b42f1a87",
        "outputId": "e8c38255-3aeb-4b0c-b243-de8216cd28c1"
      },
      "outputs": [
        {
          "output_type": "stream",
          "name": "stdout",
          "text": [
            "Now predicting Confirmed Cases...\n",
            "Cross validated root mean squared errors are: [0.984, 2.251, 5.935, 8.936, 8.595]\n",
            "Average RMSE using RF to predict Confirmed cases is: 5.3402\n",
            "\n",
            "Cross validated root mean squared log errors are: [0.388, 0.527, 0.634, 0.342, 0.231]\n",
            "Average RMSLE using RF to predict Confirmed cases is: 0.4244\n"
          ]
        }
      ],
      "source": [
        "# Grabbing x/y train test sets for 'Confirmed' cases\n",
        "confirmed_train_x = train.drop(train.columns[[-1,-2,-3,-4]], axis = 1)\n",
        "confirmed_train_y = train['log_Confirmed']\n",
        "\n",
        "confirmed_test_x = test.drop(test.columns[[-1,-2,-3,-4]], axis = 1)\n",
        "confirmed_test_y = test['log_Confirmed']\n",
        "\n",
        "# Performing 5-fold cross validation on rolling basis for 'Confirmed' RF model\n",
        "all_train = confirmed_train_x.append(confirmed_test_x).to_numpy()\n",
        "all_values = confirmed_train_y.append(confirmed_test_y).to_numpy()\n",
        "\n",
        "tscv = TimeSeriesSplit(n_splits=5)\n",
        "rmse_scores = []\n",
        "rmsle_scores = []\n",
        "\n",
        "for train_index, test_index in tscv.split(all_train):\n",
        "    x_train, x_test = all_train[train_index], all_train[test_index]\n",
        "    y_train, y_test = all_values[train_index], all_values[test_index]\n",
        "    \n",
        "    DTR=DecisionTreeRegressor(max_depth=4)\n",
        "    booster=AdaBoostRegressor(n_estimators=60, base_estimator=DTR ,learning_rate=0.5)\n",
        "    booster.fit(x_train, y_train)\n",
        "    predict = booster.predict(x_test)\n",
        "    rmse_scores.append(round(mean_squared_error(y_test, predict),3))\n",
        "    rmsle_scores.append(round(mean_squared_log_error(y_test, predict),3))\n",
        "\n",
        "print('Now predicting Confirmed Cases...')\n",
        "print('Cross validated root mean squared errors are:', rmse_scores)\n",
        "print('Average RMSE using RF to predict Confirmed cases is:', mean(rmse_scores))\n",
        "print()\n",
        "print('Cross validated root mean squared log errors are:', rmsle_scores)\n",
        "print('Average RMSLE using RF to predict Confirmed cases is:', mean(rmsle_scores))"
      ]
    },
    {
      "cell_type": "code",
      "source": [
        "# Plots the observed values, y, against the fittted values, y hat\n",
        "df_pred = pd.DataFrame(list(y_test), columns = ['y_test'])\n",
        "df_pred['predict'] = list(predict)\n",
        "\n",
        "plt.scatter(df_pred['y_test'], df_pred['predict'], alpha = 0.8)\n",
        "plt.title('AdaBoostR2 - Confirmed Cases - Observed vs. Fitted Values')\n",
        "plt.xlabel('y')\n",
        "plt.ylabel('$\\hat{y}$')"
      ],
      "metadata": {
        "colab": {
          "base_uri": "https://localhost:8080/",
          "height": 312
        },
        "id": "ItdRzZnnjKY7",
        "outputId": "1842e93b-0242-4660-a2f2-4945daa121f0"
      },
      "id": "ItdRzZnnjKY7",
      "execution_count": 27,
      "outputs": [
        {
          "output_type": "execute_result",
          "data": {
            "text/plain": [
              "Text(0, 0.5, '$\\\\hat{y}$')"
            ]
          },
          "metadata": {},
          "execution_count": 27
        },
        {
          "output_type": "display_data",
          "data": {
            "text/plain": [
              "<Figure size 432x288 with 1 Axes>"
            ],
            "image/png": "[encoded data removed]"
          },
          "metadata": {
            "needs_background": "light"
          }
        }
      ]
    },
    {
      "cell_type": "code",
      "execution_count": 33,
      "id": "627e0d7d",
      "metadata": {
        "colab": {
          "base_uri": "https://localhost:8080/"
        },
        "id": "627e0d7d",
        "outputId": "167cb7cb-cd15-4088-cd2d-b420f63d26df"
      },
      "outputs": [
        {
          "output_type": "stream",
          "name": "stdout",
          "text": [
            "Now predicting Deaths Cases...\n",
            "Cross validated root mean squared errors are: [0.012, 0.239, 1.397, 3.853, 5.836]\n",
            "Average RMSE using RF to predict Deaths cases is: 2.2674000000000003\n",
            "\n",
            "Cross validated root mean squared log errors are: [0.004, 0.085, 0.41, 0.606, 0.575]\n",
            "Average RMSLE using RF to predict Deaths cases is: 0.33599999999999997\n"
          ]
        }
      ],
      "source": [
        "# Grabbing x/y train test sets for 'Deaths' cases\n",
        "deaths_train_x = train.drop(train.columns[[-1,-2,-3,-4]], axis = 1)\n",
        "deaths_train_y = train['log_Deaths']\n",
        "\n",
        "deaths_test_x = test.drop(test.columns[[-1,-2,-3,-4]], axis = 1)\n",
        "deaths_test_y = test['log_Deaths']\n",
        "\n",
        "# Performing 5-fold cross validation on rolling basis for 'Deaths' RF model\n",
        "all_train = deaths_train_x.append(deaths_test_x).to_numpy()\n",
        "all_values = deaths_train_y.append(deaths_test_y).to_numpy()\n",
        "\n",
        "tscv = TimeSeriesSplit(n_splits=5)\n",
        "rmse_scores = []\n",
        "rmsle_scores = []\n",
        "\n",
        "for train_index, test_index in tscv.split(all_train):\n",
        "    x_train, x_test = all_train[train_index], all_train[test_index]\n",
        "    y_train, y_test = all_values[train_index], all_values[test_index]\n",
        "    DTR=DecisionTreeRegressor(max_depth=4)\n",
        "    booster=AdaBoostRegressor(n_estimators=60, base_estimator=DTR ,learning_rate=0.5)\n",
        "    booster.fit(x_train, y_train)\n",
        "    predict = booster.predict(x_test)\n",
        "    rmse_scores.append(round(mean_squared_error(y_test, predict),3))\n",
        "    rmsle_scores.append(round(mean_squared_log_error(y_test, predict),3))\n",
        "\n",
        "print('Now predicting Deaths Cases...')\n",
        "print('Cross validated root mean squared errors are:', rmse_scores)\n",
        "print('Average RMSE using RF to predict Deaths cases is:', mean(rmse_scores))\n",
        "print()\n",
        "print('Cross validated root mean squared log errors are:', rmsle_scores)\n",
        "print('Average RMSLE using RF to predict Deaths cases is:', mean(rmsle_scores))"
      ]
    },
    {
      "cell_type": "code",
      "execution_count": 34,
      "id": "a27fc30c",
      "metadata": {
        "colab": {
          "base_uri": "https://localhost:8080/"
        },
        "id": "a27fc30c",
        "outputId": "403a174d-979f-4ad8-aac4-69b8ec1b0a9b"
      },
      "outputs": [
        {
          "output_type": "stream",
          "name": "stdout",
          "text": [
            "Now predicting Recovered Cases...\n",
            "Cross validated root mean squared errors are: [0.194, 0.845, 2.115, 5.043, 7.93]\n",
            "Average RMSE using RF to predict Recovered cases is: 3.2254\n",
            "\n",
            "Cross validated root mean squared log errors are: [0.051, 0.281, 0.566, 0.619, 0.492]\n",
            "Average RMSLE using RF to predict Recovered cases is: 0.4018\n"
          ]
        }
      ],
      "source": [
        "# Grabbing x/y train test sets for 'Recovered' cases\n",
        "recovered_train_x = train.drop(train.columns[[-1,-2,-3,-4]], axis = 1)\n",
        "recovered_train_y = train['log_Recovered']\n",
        "\n",
        "recovered_test_x = test.drop(test.columns[[-1,-2,-3,-4]], axis = 1)\n",
        "recovered_test_y = test['log_Recovered']\n",
        "\n",
        "# Performing 5-fold cross validation on rolling basis for 'Recovered' RF model\n",
        "all_train = recovered_train_x.append(recovered_test_x).to_numpy()\n",
        "all_values = recovered_train_y.append(recovered_test_y).to_numpy()\n",
        "\n",
        "tscv = TimeSeriesSplit(n_splits=5)\n",
        "rmse_scores = []\n",
        "rmsle_scores = []\n",
        "\n",
        "for train_index, test_index in tscv.split(all_train):\n",
        "    x_train, x_test = all_train[train_index], all_train[test_index]\n",
        "    y_train, y_test = all_values[train_index], all_values[test_index]\n",
        "    \n",
        "    DTR=DecisionTreeRegressor(max_depth=4)\n",
        "    booster=AdaBoostRegressor(n_estimators=60, base_estimator=DTR ,learning_rate=0.5)\n",
        "    booster.fit(x_train, y_train)\n",
        "    predict = booster.predict(x_test)\n",
        "    rmse_scores.append(round(mean_squared_error(y_test, predict),3))\n",
        "    rmsle_scores.append(round(mean_squared_log_error(y_test, predict),3))\n",
        "\n",
        "print('Now predicting Recovered Cases...')\n",
        "print('Cross validated root mean squared errors are:', rmse_scores)\n",
        "print('Average RMSE using RF to predict Recovered cases is:', mean(rmse_scores))\n",
        "print()\n",
        "print('Cross validated root mean squared log errors are:', rmsle_scores)\n",
        "print('Average RMSLE using RF to predict Recovered cases is:', mean(rmsle_scores))"
      ]
    },
    {
      "cell_type": "code",
      "execution_count": 35,
      "id": "901f3cfa",
      "metadata": {
        "colab": {
          "base_uri": "https://localhost:8080/"
        },
        "id": "901f3cfa",
        "outputId": "afe2ee9d-79ab-4d8e-c0f4-77f00bc438b2"
      },
      "outputs": [
        {
          "output_type": "stream",
          "name": "stdout",
          "text": [
            "Now predicting Active Cases...\n",
            "Cross validated root mean squared errors are: [0.822, 2.054, 5.872, 8.62, 8.097]\n",
            "Average RMSE using RF to predict Active cases is: 5.093\n",
            "\n",
            "Cross validated root mean squared log errors are: [0.051, 0.281, 0.566, 0.619, 0.492, 0.349, 0.49, 0.629, 0.348, 0.268]\n",
            "Average RMSLE using RF to predict Active cases is: 0.4093\n"
          ]
        }
      ],
      "source": [
        "# Grabbing x/y train test sets for 'Active' cases\n",
        "active_train_x = train.drop(train.columns[[-1,-2,-3,-4]], axis = 1)\n",
        "active_train_y = train['log_Active']\n",
        "\n",
        "active_test_x = test.drop(test.columns[[-1,-2,-3,-4]], axis = 1)\n",
        "active_test_y = test['log_Active']\n",
        "\n",
        "# Performing 5-fold cross validation on rolling basis for 'Active' RF model\n",
        "all_train = active_train_x.append(active_test_x).to_numpy()\n",
        "all_values = active_train_y.append(active_test_y).to_numpy()\n",
        "\n",
        "tscv = TimeSeriesSplit(n_splits=5)\n",
        "rmse_scores = []\n",
        "\n",
        "for train_index, test_index in tscv.split(all_train):\n",
        "    x_train, x_test = all_train[train_index], all_train[test_index]\n",
        "    y_train, y_test = all_values[train_index], all_values[test_index]\n",
        "    \n",
        "    DTR=DecisionTreeRegressor(max_depth=4)\n",
        "    booster=AdaBoostRegressor(n_estimators=60, base_estimator=DTR ,learning_rate=0.5)\n",
        "    booster.fit(x_train, y_train)\n",
        "    predict = booster.predict(x_test)\n",
        "    rmse_scores.append(round(mean_squared_error(y_test, predict),3))\n",
        "    rmsle_scores.append(round(mean_squared_log_error(y_test, predict),3))\n",
        "\n",
        "\n",
        "print('Now predicting Active Cases...')\n",
        "print('Cross validated root mean squared errors are:', rmse_scores)\n",
        "print('Average RMSE using RF to predict Active cases is:', round(mean(rmse_scores),4))\n",
        "print()\n",
        "print('Cross validated root mean squared log errors are:', rmsle_scores)\n",
        "print('Average RMSLE using RF to predict Active cases is:', mean(rmsle_scores))"
      ]
    }
  ],
  "metadata": {
    "kernelspec": {
      "display_name": "Python 3 (ipykernel)",
      "language": "python",
      "name": "python3"
    },
    "language_info": {
      "codemirror_mode": {
        "name": "ipython",
        "version": 3
      },
      "file_extension": ".py",
      "mimetype": "text/x-python",
      "name": "python",
      "nbconvert_exporter": "python",
      "pygments_lexer": "ipython3",
      "version": "3.9.7"
    },
    "colab": {
      "name": "AdaBoostSklearn.ipynb",
      "provenance": [],
      "collapsed_sections": []
    }
  },
  "nbformat": 4,
  "nbformat_minor": 5
}