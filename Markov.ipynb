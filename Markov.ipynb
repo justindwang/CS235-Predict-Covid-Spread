{
  "nbformat": 4,
  "nbformat_minor": 0,
  "metadata": {
    "colab": {
      "name": "Project w/ KNN.ipynb",
      "provenance": [],
      "collapsed_sections": []
    },
    "kernelspec": {
      "name": "python3",
      "display_name": "Python 3"
    },
    "language_info": {
      "name": "python"
    }
  },
  "cells": [
    {
      "cell_type": "code",
      "execution_count": 1,
      "metadata": {
        "colab": {
          "base_uri": "https://localhost:8080/"
        },
        "id": "SEHdscHh0UKG",
        "outputId": "6c54a959-1411-4a30-813c-2bf2a01a1e87"
      },
      "outputs": [
        {
          "output_type": "stream",
          "name": "stdout",
          "text": [
            "Mounted at /content/drive\n"
          ]
        }
      ],
      "source": [
        "from google.colab import drive\n",
        "\n",
        "\n",
        "drive.mount('/content/drive')"
      ]
    },
    {
      "cell_type": "code",
      "source": [
        "from sklearn.neighbors import NearestNeighbors\n",
        "import pandas as pd\n",
        "import numpy as np\n",
        "import matplotlib.pyplot as plt\n",
        "\n",
        "np.random.seed(42)\n",
        "\n",
        "data = pd.read_csv(\"/content/drive/MyDrive/CS235-Predict-Covid-Spread/[Cleaned] Forecasting Data/traineditted.csv\")\n",
        "\n",
        "data.rename(columns = {' Change in Active':'Change in Active'}, inplace = True)\n",
        "\n",
        "data[1000:1200]\n",
        "\n",
        "\n",
        "# data.groupby(['Country'])['Change'] = data['Active']\n",
        "\n",
        "# plt.hist(data[data['Deaths'] != 0]['Deaths'])\n",
        "# plt.hist(data[data['Deaths'] != 0]['Deaths'])"
      ],
      "metadata": {
        "colab": {
          "base_uri": "https://localhost:8080/",
          "height": 424
        },
        "id": "1WwlrKqo16z4",
        "outputId": "c708b953-3185-4334-c98e-994113612b27"
      },
      "execution_count": 91,
      "outputs": [
        {
          "output_type": "execute_result",
          "data": {
            "text/plain": [
              "      Unnamed: 0  Country        Date  Confirmed  Deaths  Recovered  Active  \\\n",
              "1000        1000  Bolivia  2020-01-22          0       0          0       0   \n",
              "1001        1001  Bolivia  2020-01-23          0       0          0       0   \n",
              "1002        1002  Bolivia  2020-01-24          0       0          0       0   \n",
              "1003        1003  Bolivia  2020-01-25          0       0          0       0   \n",
              "1004        1004  Bolivia  2020-01-26          0       0          0       0   \n",
              "...          ...      ...         ...        ...     ...        ...     ...   \n",
              "1195        1195   Brazil  2020-03-07         13       0          0      13   \n",
              "1196        1196   Brazil  2020-03-08         20       0          0      20   \n",
              "1197        1197   Brazil  2020-03-09         25       0          0      25   \n",
              "1198        1198   Brazil  2020-03-10         31       0          0      31   \n",
              "1199        1199   Brazil  2020-03-11         38       0          0      38   \n",
              "\n",
              "      Change in Active  \n",
              "1000                 0  \n",
              "1001                 0  \n",
              "1002                 0  \n",
              "1003                 0  \n",
              "1004                 0  \n",
              "...                ...  \n",
              "1195                 0  \n",
              "1196                 7  \n",
              "1197                 5  \n",
              "1198                 6  \n",
              "1199                 7  \n",
              "\n",
              "[200 rows x 8 columns]"
            ],
            "text/html": [
              "\n",
              "  <div id=\"df-183cc434-0481-47dd-9eb9-40a872d91b77\">\n",
              "    <div class=\"colab-df-container\">\n",
              "      <div>\n",
              "<style scoped>\n",
              "    .dataframe tbody tr th:only-of-type {\n",
              "        vertical-align: middle;\n",
              "    }\n",
              "\n",
              "    .dataframe tbody tr th {\n",
              "        vertical-align: top;\n",
              "    }\n",
              "\n",
              "    .dataframe thead th {\n",
              "        text-align: right;\n",
              "    }\n",
              "</style>\n",
              "<table border=\"1\" class=\"dataframe\">\n",
              "  <thead>\n",
              "    <tr style=\"text-align: right;\">\n",
              "      <th></th>\n",
              "      <th>Unnamed: 0</th>\n",
              "      <th>Country</th>\n",
              "      <th>Date</th>\n",
              "      <th>Confirmed</th>\n",
              "      <th>Deaths</th>\n",
              "      <th>Recovered</th>\n",
              "      <th>Active</th>\n",
              "      <th>Change in Active</th>\n",
              "    </tr>\n",
              "  </thead>\n",
              "  <tbody>\n",
              "    <tr>\n",
              "      <th>1000</th>\n",
              "      <td>1000</td>\n",
              "      <td>Bolivia</td>\n",
              "      <td>2020-01-22</td>\n",
              "      <td>0</td>\n",
              "      <td>0</td>\n",
              "      <td>0</td>\n",
              "      <td>0</td>\n",
              "      <td>0</td>\n",
              "    </tr>\n",
              "    <tr>\n",
              "      <th>1001</th>\n",
              "      <td>1001</td>\n",
              "      <td>Bolivia</td>\n",
              "      <td>2020-01-23</td>\n",
              "      <td>0</td>\n",
              "      <td>0</td>\n",
              "      <td>0</td>\n",
              "      <td>0</td>\n",
              "      <td>0</td>\n",
              "    </tr>\n",
              "    <tr>\n",
              "      <th>1002</th>\n",
              "      <td>1002</td>\n",
              "      <td>Bolivia</td>\n",
              "      <td>2020-01-24</td>\n",
              "      <td>0</td>\n",
              "      <td>0</td>\n",
              "      <td>0</td>\n",
              "      <td>0</td>\n",
              "      <td>0</td>\n",
              "    </tr>\n",
              "    <tr>\n",
              "      <th>1003</th>\n",
              "      <td>1003</td>\n",
              "      <td>Bolivia</td>\n",
              "      <td>2020-01-25</td>\n",
              "      <td>0</td>\n",
              "      <td>0</td>\n",
              "      <td>0</td>\n",
              "      <td>0</td>\n",
              "      <td>0</td>\n",
              "    </tr>\n",
              "    <tr>\n",
              "      <th>1004</th>\n",
              "      <td>1004</td>\n",
              "      <td>Bolivia</td>\n",
              "      <td>2020-01-26</td>\n",
              "      <td>0</td>\n",
              "      <td>0</td>\n",
              "      <td>0</td>\n",
              "      <td>0</td>\n",
              "      <td>0</td>\n",
              "    </tr>\n",
              "    <tr>\n",
              "      <th>...</th>\n",
              "      <td>...</td>\n",
              "      <td>...</td>\n",
              "      <td>...</td>\n",
              "      <td>...</td>\n",
              "      <td>...</td>\n",
              "      <td>...</td>\n",
              "      <td>...</td>\n",
              "      <td>...</td>\n",
              "    </tr>\n",
              "    <tr>\n",
              "      <th>1195</th>\n",
              "      <td>1195</td>\n",
              "      <td>Brazil</td>\n",
              "      <td>2020-03-07</td>\n",
              "      <td>13</td>\n",
              "      <td>0</td>\n",
              "      <td>0</td>\n",
              "      <td>13</td>\n",
              "      <td>0</td>\n",
              "    </tr>\n",
              "    <tr>\n",
              "      <th>1196</th>\n",
              "      <td>1196</td>\n",
              "      <td>Brazil</td>\n",
              "      <td>2020-03-08</td>\n",
              "      <td>20</td>\n",
              "      <td>0</td>\n",
              "      <td>0</td>\n",
              "      <td>20</td>\n",
              "      <td>7</td>\n",
              "    </tr>\n",
              "    <tr>\n",
              "      <th>1197</th>\n",
              "      <td>1197</td>\n",
              "      <td>Brazil</td>\n",
              "      <td>2020-03-09</td>\n",
              "      <td>25</td>\n",
              "      <td>0</td>\n",
              "      <td>0</td>\n",
              "      <td>25</td>\n",
              "      <td>5</td>\n",
              "    </tr>\n",
              "    <tr>\n",
              "      <th>1198</th>\n",
              "      <td>1198</td>\n",
              "      <td>Brazil</td>\n",
              "      <td>2020-03-10</td>\n",
              "      <td>31</td>\n",
              "      <td>0</td>\n",
              "      <td>0</td>\n",
              "      <td>31</td>\n",
              "      <td>6</td>\n",
              "    </tr>\n",
              "    <tr>\n",
              "      <th>1199</th>\n",
              "      <td>1199</td>\n",
              "      <td>Brazil</td>\n",
              "      <td>2020-03-11</td>\n",
              "      <td>38</td>\n",
              "      <td>0</td>\n",
              "      <td>0</td>\n",
              "      <td>38</td>\n",
              "      <td>7</td>\n",
              "    </tr>\n",
              "  </tbody>\n",
              "</table>\n",
              "<p>200 rows × 8 columns</p>\n",
              "</div>\n",
              "      <button class=\"colab-df-convert\" onclick=\"convertToInteractive('df-183cc434-0481-47dd-9eb9-40a872d91b77')\"\n",
              "              title=\"Convert this dataframe to an interactive table.\"\n",
              "              style=\"display:none;\">\n",
              "        \n",
              "  <svg xmlns=\"http://www.w3.org/2000/svg\" height=\"24px\"viewBox=\"0 0 24 24\"\n",
              "       width=\"24px\">\n",
              "    <path d=\"M0 0h24v24H0V0z\" fill=\"none\"/>\n",
              "    <path d=\"M18.56 5.44l.94 2.06.94-2.06 2.06-.94-2.06-.94-.94-2.06-.94 2.06-2.06.94zm-11 1L8.5 8.5l.94-2.06 2.06-.94-2.06-.94L8.5 2.5l-.94 2.06-2.06.94zm10 10l.94 2.06.94-2.06 2.06-.94-2.06-.94-.94-2.06-.94 2.06-2.06.94z\"/><path d=\"M17.41 7.96l-1.37-1.37c-.4-.4-.92-.59-1.43-.59-.52 0-1.04.2-1.43.59L10.3 9.45l-7.72 7.72c-.78.78-.78 2.05 0 2.83L4 21.41c.39.39.9.59 1.41.59.51 0 1.02-.2 1.41-.59l7.78-7.78 2.81-2.81c.8-.78.8-2.07 0-2.86zM5.41 20L4 18.59l7.72-7.72 1.47 1.35L5.41 20z\"/>\n",
              "  </svg>\n",
              "      </button>\n",
              "      \n",
              "  <style>\n",
              "    .colab-df-container {\n",
              "      display:flex;\n",
              "      flex-wrap:wrap;\n",
              "      gap: 12px;\n",
              "    }\n",
              "\n",
              "    .colab-df-convert {\n",
              "      background-color: #E8F0FE;\n",
              "      border: none;\n",
              "      border-radius: 50%;\n",
              "      cursor: pointer;\n",
              "      display: none;\n",
              "      fill: #1967D2;\n",
              "      height: 32px;\n",
              "      padding: 0 0 0 0;\n",
              "      width: 32px;\n",
              "    }\n",
              "\n",
              "    .colab-df-convert:hover {\n",
              "      background-color: #E2EBFA;\n",
              "      box-shadow: 0px 1px 2px rgba(60, 64, 67, 0.3), 0px 1px 3px 1px rgba(60, 64, 67, 0.15);\n",
              "      fill: #174EA6;\n",
              "    }\n",
              "\n",
              "    [theme=dark] .colab-df-convert {\n",
              "      background-color: #3B4455;\n",
              "      fill: #D2E3FC;\n",
              "    }\n",
              "\n",
              "    [theme=dark] .colab-df-convert:hover {\n",
              "      background-color: #434B5C;\n",
              "      box-shadow: 0px 1px 3px 1px rgba(0, 0, 0, 0.15);\n",
              "      filter: drop-shadow(0px 1px 2px rgba(0, 0, 0, 0.3));\n",
              "      fill: #FFFFFF;\n",
              "    }\n",
              "  </style>\n",
              "\n",
              "      <script>\n",
              "        const buttonEl =\n",
              "          document.querySelector('#df-183cc434-0481-47dd-9eb9-40a872d91b77 button.colab-df-convert');\n",
              "        buttonEl.style.display =\n",
              "          google.colab.kernel.accessAllowed ? 'block' : 'none';\n",
              "\n",
              "        async function convertToInteractive(key) {\n",
              "          const element = document.querySelector('#df-183cc434-0481-47dd-9eb9-40a872d91b77');\n",
              "          const dataTable =\n",
              "            await google.colab.kernel.invokeFunction('convertToInteractive',\n",
              "                                                     [key], {});\n",
              "          if (!dataTable) return;\n",
              "\n",
              "          const docLinkHtml = 'Like what you see? Visit the ' +\n",
              "            '<a target=\"_blank\" href=https://colab.research.google.com/notebooks/data_table.ipynb>data table notebook</a>'\n",
              "            + ' to learn more about interactive tables.';\n",
              "          element.innerHTML = '';\n",
              "          dataTable['output_type'] = 'display_data';\n",
              "          await google.colab.output.renderOutput(dataTable, element);\n",
              "          const docLink = document.createElement('div');\n",
              "          docLink.innerHTML = docLinkHtml;\n",
              "          element.appendChild(docLink);\n",
              "        }\n",
              "      </script>\n",
              "    </div>\n",
              "  </div>\n",
              "  "
            ]
          },
          "metadata": {},
          "execution_count": 91
        }
      ]
    },
    {
      "cell_type": "code",
      "source": [
        "import pandas as pd\n",
        "from os.path import exists\n",
        "import warnings\n",
        "from datetime import date\n",
        "import math\n",
        "import matplotlib.pyplot as plt\n",
        "\n",
        "warnings.filterwarnings('ignore')\n",
        "\n",
        "# Reading in files\n",
        "train = pd.read_csv('/content/drive/MyDrive/CS235-Predict-Covid-Spread/[Cleaned] Forecasting Data/train.csv')\n",
        "test = pd.read_csv('/content/drive/MyDrive/CS235-Predict-Covid-Spread/[Cleaned] Forecasting Data/train.csv')\n",
        "\n",
        "train = train.drop('Unnamed: 0', axis=1)\n",
        "test = test.drop('Unnamed: 0', axis=1)\n",
        "\n",
        "def date_to_int(d):\n",
        "    initial_date = date(2020, 1, 21)\n",
        "    curr_date = [int(x) for x in d.split('-')]\n",
        "    final_date = date(curr_date[0], curr_date[1], curr_date[2])\n",
        "    delta = final_date - initial_date\n",
        "    return delta.days\n",
        "\n",
        "countries = pd.unique(train['Country'])\n",
        "\n",
        "# Feature Engineering - One hot encoding for country and Numeric Day value\n",
        "one_hot_train = pd.get_dummies(train['Country'])\n",
        "train = train.join(one_hot_train)\n",
        "train['Day'] = train['Date'].apply(lambda x: date_to_int(x))\n",
        "\n",
        "one_hot_test = pd.get_dummies(test['Country'])\n",
        "test = test.join(one_hot_train)\n",
        "test['Day'] = test['Date'].apply(lambda x: date_to_int(x))\n",
        "\n",
        "# Outcome Log Transformation\n",
        "train['log_Confirmed'] = train['Confirmed'].apply(lambda x: round(math.log(x+1),3))\n",
        "train['log_Deaths'] = train['Deaths'].apply(lambda x: round(math.log(x+1),3))\n",
        "train['log_Recovered'] = train['Recovered'].apply(lambda x: round(math.log(x+1),3))\n",
        "train['log_Active'] = train['Active'].apply(lambda x: round(math.log(x+1),3))\n",
        "\n",
        "test['log_Confirmed'] = test['Confirmed'].apply(lambda x: round(math.log(x+1),3))\n",
        "test['log_Deaths'] = test['Deaths'].apply(lambda x: round(math.log(x+1),3))\n",
        "test['log_Recovered'] = test['Recovered'].apply(lambda x: round(math.log(x+1),3))\n",
        "test['log_Active'] = test['Active'].apply(lambda x: round(math.log(x+1),3))"
      ],
      "metadata": {
        "id": "koiffeNz6U5i"
      },
      "execution_count": 92,
      "outputs": []
    },
    {
      "cell_type": "code",
      "source": [
        "train['Country']\n",
        "# Preparing vectorized features to input into model\n",
        "# train.drop(train.iloc[:, 0:6], inplace = True, axis = 1)\n",
        "# test.drop(test.iloc[:, 0:6], inplace = True, axis = 1)"
      ],
      "metadata": {
        "id": "dWPZKEPGQ3ll",
        "colab": {
          "base_uri": "https://localhost:8080/"
        },
        "outputId": "852d0352-244e-476e-ad8a-26641e38871f"
      },
      "execution_count": 93,
      "outputs": [
        {
          "output_type": "execute_result",
          "data": {
            "text/plain": [
              "0              Afghanistan\n",
              "1                  Albania\n",
              "2                  Algeria\n",
              "3                  Andorra\n",
              "4                   Angola\n",
              "               ...        \n",
              "9345    West Bank and Gaza\n",
              "9346        Western Sahara\n",
              "9347                 Yemen\n",
              "9348                Zambia\n",
              "9349              Zimbabwe\n",
              "Name: Country, Length: 9350, dtype: object"
            ]
          },
          "metadata": {},
          "execution_count": 93
        }
      ]
    },
    {
      "cell_type": "code",
      "source": [
        ""
      ],
      "metadata": {
        "id": "YovE379XEk6I"
      },
      "execution_count": 93,
      "outputs": []
    },
    {
      "cell_type": "code",
      "source": [
        "from pandas.api.types import is_string_dtype\n",
        "from pandas.api.types import is_numeric_dtype\n",
        "from sklearn.model_selection import train_test_split\n",
        "\n",
        "train['confirmed_ranges'] = pd.qcut(train[train['log_Confirmed'] != 0]['log_Confirmed'], q=5, duplicates='drop', labels=[1,2,3,4])\n",
        "train['confirmed_ranges'] = train['confirmed_ranges'].astype('float64')\n",
        "train['confirmed_ranges'].fillna(value=0, inplace=True)\n",
        "train['confirmed_ranges'] = train['confirmed_ranges'].astype('int64')\n",
        "\n",
        "train['recovered_ranges'] = pd.qcut(train[train['log_Recovered'] != 0]['log_Recovered'], q=5, duplicates='drop', labels=[1,2,3,4])\n",
        "train['recovered_ranges'] = train['recovered_ranges'].astype('float64')\n",
        "train['recovered_ranges'].fillna(value=0, inplace=True)\n",
        "train['recovered_ranges'] = train['recovered_ranges'].astype('int64')\n",
        "\n",
        "train['death_ranges'] = pd.qcut(train[train['log_Deaths'] != 0]['log_Deaths'], q=5, duplicates='drop', labels=[1,2,3,4])\n",
        "train['death_ranges'] = train['death_ranges'].astype('float64')\n",
        "train['death_ranges'].fillna(value=0, inplace=True)\n",
        "train['death_ranges'] = train['death_ranges'].astype('int64')\n",
        "\n",
        "train['active_ranges'] = pd.qcut(train[train['log_Active'] != 0]['log_Active'], q=5, duplicates='drop', labels=[1,2,3,4])\n",
        "train['active_ranges'] = train['active_ranges'].astype('float64')\n",
        "train['active_ranges'].fillna(value=0, inplace=True)\n",
        "train['active_ranges'] = train['active_ranges'].astype('int64')\n",
        "\n",
        "\n",
        "### Same for the Test data ##\n",
        "test['confirmed_ranges'] = pd.qcut(test[test['log_Confirmed'] != 0]['log_Confirmed'], q=5, duplicates='drop', labels=[1,2,3,4])\n",
        "test['confirmed_ranges'] = test['confirmed_ranges'].astype('float64')\n",
        "test['confirmed_ranges'].fillna(value=0, inplace=True)\n",
        "test['confirmed_ranges'] = test['confirmed_ranges'].astype('int64')\n",
        "\n",
        "test['recovered_ranges'] = pd.qcut(test[test['log_Recovered'] != 0]['log_Recovered'], q=5, duplicates='drop', labels=[1,2,3,4])\n",
        "test['recovered_ranges'] = test['recovered_ranges'].astype('float64')\n",
        "test['recovered_ranges'].fillna(value=0, inplace=True)\n",
        "test['recovered_ranges'] = test['recovered_ranges'].astype('int64')\n",
        "\n",
        "test['death_ranges'] = pd.qcut(test[test['log_Deaths'] != 0]['log_Deaths'], q=5, duplicates='drop', labels=[1,2,3,4])\n",
        "test['death_ranges'] = test['death_ranges'].astype('float64')\n",
        "test['death_ranges'].fillna(value=0, inplace=True)\n",
        "test['death_ranges'] = test['death_ranges'].astype('int64')\n",
        "\n",
        "test['active_ranges'] = pd.qcut(test[test['log_Active'] != 0]['log_Active'], q=5, duplicates='drop', labels=[1,2,3,4])\n",
        "test['active_ranges'] = test['active_ranges'].astype('float64')\n",
        "test['active_ranges'].fillna(value=0, inplace=True)\n",
        "test['active_ranges'] = test['active_ranges'].astype('int64')\n"
      ],
      "metadata": {
        "id": "ZnqX2iKDQSr9"
      },
      "execution_count": 94,
      "outputs": []
    },
    {
      "cell_type": "code",
      "source": [
        "# train['confirmed_ranges'] = pd.qcut(train[train['log_Confirmed'] != 0]['log_Confirmed'], q=6, duplicates='drop', labels=[2, 3, 4, 5, 6])\n",
        "# train['confirmed_ranges'] = train['confirmed_ranges'].astype('float64')\n",
        "# train['confirmed_ranges'].fillna(value=1, inplace=True)\n",
        "# train['confirmed_ranges'] = train['confirmed_ranges'].astype('int64')\n",
        "\n",
        "# train['recovered_ranges'] = pd.qcut(train[train['log_Recovered'] != 0]['log_Recovered'], q=6, duplicates='drop', labels=[2, 3, 4, 5, 6])\n",
        "# train['recovered_ranges'] = train['recovered_ranges'].astype('float64')\n",
        "# train['recovered_ranges'].fillna(value=1, inplace=True)\n",
        "# train['recovered_ranges'] = train['recovered_ranges'].astype('int64')\n",
        "\n",
        "# train['death_ranges'] = pd.qcut(train[train['log_Deaths'] != 0]['log_Deaths'], q=5, duplicates='drop', labels=[2, 3, 4, 5])\n",
        "# train['death_ranges'] = train['death_ranges'].astype('float64')\n",
        "# train['death_ranges'].fillna(value=1, inplace=True)\n",
        "# train['death_ranges'] = train['death_ranges'].astype('int64')\n",
        "\n",
        "# train['active_ranges'] = pd.qcut(train[train['log_Active'] != 0]['log_Active'], q=6, duplicates='drop', labels=[2, 3, 4, 5, 6])\n",
        "# train['active_ranges'] = train['active_ranges'].astype('float64')\n",
        "# train['active_ranges'].fillna(value=1, inplace=True)\n",
        "# train['active_ranges'] = train['active_ranges'].astype('int64')\n",
        "\n",
        "train.dtypes"
      ],
      "metadata": {
        "colab": {
          "base_uri": "https://localhost:8080/"
        },
        "id": "dEFC8_Yc3_SB",
        "outputId": "b7c8dfc1-2db2-4ac5-f350-6b7ff1195cc7"
      },
      "execution_count": 95,
      "outputs": [
        {
          "output_type": "execute_result",
          "data": {
            "text/plain": [
              "Country              object\n",
              "Date                 object\n",
              "Confirmed             int64\n",
              "Deaths                int64\n",
              "Recovered             int64\n",
              "                     ...   \n",
              "log_Active          float64\n",
              "confirmed_ranges      int64\n",
              "recovered_ranges      int64\n",
              "death_ranges          int64\n",
              "active_ranges         int64\n",
              "Length: 202, dtype: object"
            ]
          },
          "metadata": {},
          "execution_count": 95
        }
      ]
    },
    {
      "cell_type": "code",
      "source": [
        ""
      ],
      "metadata": {
        "id": "FEl7g6Pj5NLx"
      },
      "execution_count": 95,
      "outputs": []
    },
    {
      "cell_type": "code",
      "source": [
        "train1, valid1 = train_test_split(train, test_size=0.2, shuffle=False)\n",
        "train1 = train1.sort_values(by=['Country', 'Day'])\n",
        "train1[:200]\n",
        "\n",
        "print(len(test), len(test[test['log_Recovered'] != 0]))"
      ],
      "metadata": {
        "colab": {
          "base_uri": "https://localhost:8080/"
        },
        "id": "L1hNZMhlxU37",
        "outputId": "6d5a1853-7882-44ba-c288-651e1e0062ff"
      },
      "execution_count": 96,
      "outputs": [
        {
          "output_type": "stream",
          "name": "stdout",
          "text": [
            "9350 913\n"
          ]
        }
      ]
    },
    {
      "cell_type": "code",
      "source": [
        " def learnmchain(X,order):\n",
        "    letterCount = len(X)\n",
        "    stateCount = max(X) + 1\n",
        "    \n",
        "    piShape = (stateCount, ) * order\n",
        "    stateShape = (stateCount, ) * (order + 1)\n",
        "    \n",
        "    piProbability = np.zeros(piShape)\n",
        "    stateMatrix = np.zeros(stateShape)  + 10**(-5)\n",
        "    \n",
        "    for index in range(len(X) - order):\n",
        "        if order == 0:\n",
        "            stateMatrix[X[index]] += 1\n",
        "        else:   \n",
        "            indeces = tuple(X[index:index + order + 1])\n",
        "\n",
        "            piProbability[tuple(indeces[:order])] += 1\n",
        "            stateMatrix[indeces] += 1\n",
        "        \n",
        "    if order != 0:\n",
        "        piProbability[tuple(X[-order:])] += 1\n",
        "    \n",
        "    rowTotals = np.sum(stateMatrix.T, axis=0)\n",
        "    \n",
        "    \n",
        "    stateMatrix = (stateMatrix.T / rowTotals).T\n",
        "    piProbability = piProbability / (letterCount - order + 1)\n",
        "    \n",
        "    return piProbability, stateMatrix, order\n"
      ],
      "metadata": {
        "id": "_LwHp6FS0kiw"
      },
      "execution_count": 97,
      "outputs": []
    },
    {
      "cell_type": "code",
      "source": [
        "def sample(theta,n, init):\n",
        "    predicted = []\n",
        "    initialProbability = theta[0]\n",
        "    tranisitionMatrix = theta[1]\n",
        "    order = theta[2]\n",
        "    flattenedInitialProbability = initialProbability.flatten()\n",
        "    i = order\n",
        "    \n",
        "\n",
        "    if(order != 0):\n",
        "        predicted = init\n",
        "    \n",
        "    while i < n:\n",
        "        currentPrediction = np.random.choice(len(tranisitionMatrix), p=tranisitionMatrix[tuple(predicted[i - order::])])\n",
        "        \n",
        "        predicted.append(currentPrediction)\n",
        "\n",
        "        i += 1\n",
        "        \n",
        "    return predicted"
      ],
      "metadata": {
        "id": "Cbuh68NfFY0e"
      },
      "execution_count": 98,
      "outputs": []
    },
    {
      "cell_type": "code",
      "source": [
        "import matplotlib.pyplot as plt\n",
        "\n",
        "def getsubplots(n):\n",
        "    plotrows = int(np.floor(np.sqrt(n)))\n",
        "    plotcols = int(np.ceil(n/plotrows))\n",
        "\n",
        "    fig,axs = plt.subplots(plotrows,plotcols)\n",
        "    fig.tight_layout(rect=[0, 0.03, 1, 0.95])\n",
        "    axs = axs.flatten()\n",
        "    for ax in axs[n:]:\n",
        "        ax.set_axis_off()\n",
        "    return axs[:n]\n",
        "\n",
        "def paramOptim(predictionColumn):\n",
        "  total = 0\n",
        "  bestOrder = 0\n",
        "  bestAcc = 0\n",
        "\n",
        "  for i in range(1, 7):\n",
        "    total = 0\n",
        "    mcorder = i\n",
        "\n",
        "    theta = learnmchain(train1[predictionColumn], mcorder)\n",
        "\n",
        "    for country in countries:\n",
        "      currentValid = valid1[valid1[country] == 1]\n",
        "\n",
        "      test = sample(theta, len(currentValid), list(train1[train1[country] == 1][predictionColumn][-mcorder:]))\n",
        "      total += len(currentValid) - len(currentValid[test == currentValid[predictionColumn]])\n",
        "\n",
        "    currentAcc = (len(valid1) - total) * 100 /len(valid1)\n",
        "\n",
        "    if currentAcc > bestAcc:\n",
        "      bestOrder = i\n",
        "      bestAcc = currentAcc\n",
        "    \n",
        "    return bestOrder\n",
        "\n",
        "def predict(predictionColumn, mcorder, targetData):\n",
        "    axs = getsubplots(3)\n",
        "    total = 0\n",
        "    predicted = {}\n",
        "    theta = learnmchain(train1[predictionColumn], mcorder)\n",
        "\n",
        "    for i, country in enumerate(countries):\n",
        "      currentValid = targetData[targetData[country] == 1]\n",
        "\n",
        "      test = sample(theta, len(currentValid), list(train1[train1[country] == 1][predictionColumn][-mcorder:]))\n",
        "      # predicted[country] = test\n",
        "      if(i == 10 or i == 41 or i == 60):\n",
        "        axs[i % 3].scatter(currentValid['Day'], test, color= \"red\", linewidths=0.5) #draw the scatter plot\n",
        "        axs[i % 3].scatter(currentValid['Day'], currentValid[predictionColumn], color= \"green\") #put average for each category\n",
        "      total += len(currentValid) - len(currentValid[test == currentValid[predictionColumn]])\n",
        "      \n",
        "\n",
        "    return (len(targetData) - total) * 100 /len(targetData)"
      ],
      "metadata": {
        "id": "HLe3VKK04Ubb"
      },
      "execution_count": 99,
      "outputs": []
    },
    {
      "cell_type": "code",
      "source": [
        "bestOrders = [(paramOptim('confirmed_ranges'), 'confirmed_ranges'), (paramOptim('death_ranges'), 'death_ranges'), (paramOptim('recovered_ranges'), 'recovered_ranges'), (paramOptim('active_ranges'), 'active_ranges')]\n",
        "\n",
        "print(\"\\nDoing the tests:\\n\")\n",
        "\n",
        "#Do the test:\n",
        "for element in bestOrders:\n",
        "  print(element[1], predict(element[1], element[0], test))\n",
        "\n",
        "plt.gcf().tight_layout()"
      ],
      "metadata": {
        "id": "qGJHN3jLUIpu",
        "colab": {
          "base_uri": "https://localhost:8080/",
          "height": 1000
        },
        "outputId": "85dfbd9a-7386-4395-b221-04156ab09c70"
      },
      "execution_count": 100,
      "outputs": [
        {
          "output_type": "stream",
          "name": "stdout",
          "text": [
            "\n",
            "Doing the tests:\n",
            "\n",
            "confirmed_ranges 66.2566844919786\n",
            "death_ranges 93.78609625668449\n",
            "recovered_ranges 83.16577540106952\n",
            "active_ranges 65.80748663101605\n"
          ]
        },
        {
          "output_type": "display_data",
          "data": {
            "text/plain": [
              "<Figure size 432x288 with 3 Axes>"
            ],
            "image/png": "[encoded data removed]"
          },
          "metadata": {
            "needs_background": "light"
          }
        },
        {
          "output_type": "display_data",
          "data": {
            "text/plain": [
              "<Figure size 432x288 with 3 Axes>"
            ],
            "image/png": "[encoded data removed]"
          },
          "metadata": {
            "needs_background": "light"
          }
        },
        {
          "output_type": "display_data",
          "data": {
            "text/plain": [
              "<Figure size 432x288 with 3 Axes>"
            ],
            "image/png": "[encoded data removed]"
          },
          "metadata": {
            "needs_background": "light"
          }
        },
        {
          "output_type": "display_data",
          "data": {
            "text/plain": [
              "<Figure size 432x288 with 3 Axes>"
            ],
            "image/png": "[encoded data removed]"
          },
          "metadata": {
            "needs_background": "light"
          }
        }
      ]
    },
    {
      "cell_type": "code",
      "source": [
        ""
      ],
      "metadata": {
        "id": "PSsO9bj6Zdz2"
      },
      "execution_count": 76,
      "outputs": []
    }
  ]
}