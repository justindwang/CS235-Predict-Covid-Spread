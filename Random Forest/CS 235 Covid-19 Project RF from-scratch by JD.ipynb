{
 "cells": [
  {
   "cell_type": "code",
   "execution_count": 1,
   "id": "bd6f8c9b",
   "metadata": {},
   "outputs": [],
   "source": [
    "# Importing packages\n",
    "import pandas as pd # for dataframes\n",
    "import numpy as np # for arrays\n",
    "import matplotlib.pyplot as plt # for visualizations\n",
    "import seaborn as sns # also for visualizations\n",
    "from datetime import date # for transforming the date feature into time series data\n",
    "import math # for functions\n",
    "\n",
    "from sklearn.metrics import mean_squared_log_error, mean_squared_error # for evaluations\n",
    "from sklearn.model_selection import TimeSeriesSplit # for k-fold cross validation\n",
    "from statistics import mean # for functions"
   ]
  },
  {
   "cell_type": "code",
   "execution_count": 2,
   "id": "49043fda",
   "metadata": {},
   "outputs": [],
   "source": [
    "# Establishes a class to represent the nodes and the node's attributes: ID, parent's ID, its given subset of x and y observations, size, depth, and if the node is a leaf node or not\n",
    "class Node:\n",
    "    \n",
    "    def __init__(self, Xsub, ysub, ID, depth = 0, parent_ID = None, leaf = True):\n",
    "        self.ID = ID\n",
    "        self.Xsub = Xsub\n",
    "        self.ysub = ysub\n",
    "        self.size = len(ysub)\n",
    "        self.depth = depth\n",
    "        self.parent_ID = parent_ID\n",
    "        self.leaf = leaf\n",
    "\n",
    "# Establishes a class that identifies the best split at the bud. \n",
    "class Splitter:\n",
    "    \n",
    "    # function that sets itself up in the case of no splitting (leaf node)\n",
    "    def __init__(self):\n",
    "        self.rss_reduction = 0\n",
    "        self.no_split = True # split status\n",
    "    \n",
    "    # function to capture the split's reduction in RSS, a variable d that makes the split, the data type, the threshold (to manage overfitting),the L values ( a set of values), and split status\n",
    "    def _replace_split(self, rss_reduction, d, dtype = 'quant', t = None, L_values = None):\n",
    "        self.rss_reduction = rss_reduction\n",
    "        self.d = d # d is the chosen predictor that splits the node\n",
    "        self.dtype = dtype\n",
    "        self.t = t # t is the threshold value       \n",
    "        self.L_values = L_values     \n",
    "        self.no_split = False # split status"
   ]
  },
  {
   "cell_type": "code",
   "execution_count": 3,
   "id": "bb736f39",
   "metadata": {},
   "outputs": [],
   "source": [
    "# We build the decision tree using RSS criteria\n",
    "# Defines a function to determine the best split at each bud\n",
    "def RSS_criteria(child_L, child_R, parent):\n",
    "    rss_parent = sum((parent - np.mean(parent))**2)\n",
    "    rss_child_L = sum((child_L - np.mean(child_L))**2) \n",
    "    rss_child_R = sum((child_R - np.mean(child_R))**2)\n",
    "    return rss_parent - (rss_child_L + rss_child_R) # how much a split reduces the parent node's RSS\n",
    "\n",
    "# Defines a function that provides a list of unique values in x; used for in spltting\n",
    "def sorted_x_y(x, y):\n",
    "    uni_xs = np.unique(x)\n",
    "    y_mean_for_x = np.array([y[x == uni_x].mean() for uni_x in uni_xs])\n",
    "    ordered_xs = uni_xs[np.argsort(y_mean_for_x)]\n",
    "    return ordered_xs\n",
    "\n",
    "# Defines a function that stop the node from splitting if the training observations are all the same\n",
    "def equal_rows(X):\n",
    "    return (X == X[0]).all()"
   ]
  },
  {
   "cell_type": "code",
   "execution_count": 4,
   "id": "43522888",
   "metadata": {},
   "outputs": [],
   "source": [
    "# Establishes the class mainly used to build the model and prediction in the individual decision tree.\n",
    "class DecisionTreeRegressor:\n",
    "    \n",
    "# Training portion\n",
    "    \n",
    "    # Fit the data. Uses the provided training data; parameter C is null in the decision tree case\n",
    "    def fit(self, X, y, max_depth = 100, min_size = 2, C = None):\n",
    "        \n",
    "        # Adds the data\n",
    "        self.X = X\n",
    "        self.y = y\n",
    "        self.N, self.D = self.X.shape\n",
    "        dtypes = [np.array(list(self.X[:,d])).dtype for d in range(self.D)]\n",
    "        self.dtypes = ['quant' if (dtype == float or dtype == int) else 'cat' for dtype in dtypes] # Differentiates between categorical and numerical variable types\n",
    "        \n",
    "        # Adds regularization parameters\n",
    "        self.max_depth = max_depth\n",
    "        self.min_size = min_size\n",
    "        self.C = C\n",
    "        \n",
    "        # Initializes the nodes\n",
    "        self.nodes_dict = {}\n",
    "        self.current_ID = 0 # Builds node IDs used for building the tree\n",
    "        root_node = Node(Xsub = X, ysub = y, ID = self.current_ID, parent_ID = None)\n",
    "        self.nodes_dict[self.current_ID] = root_node\n",
    "        self.current_ID += 1\n",
    "        \n",
    "        # Builds the tree using the _build function below\n",
    "        self._build()\n",
    "        \n",
    "    # Defines the build function for creating decision trees\n",
    "    def _build(self):\n",
    "        \n",
    "        eligible_buds = self.nodes_dict \n",
    "        for layer in range(self.max_depth):\n",
    "            \n",
    "            # Finds the eligible nodes instantiated above for layer iteration\n",
    "            eligible_buds = {ID:node for (ID, node) in self.nodes_dict.items() if \n",
    "                                (node.leaf == True) &\n",
    "                                (node.size >= self.min_size) & \n",
    "                                (~equal_rows(node.Xsub)) &\n",
    "                                (len(np.unique(node.ysub)) > 1)}\n",
    "            if len(eligible_buds) == 0:\n",
    "                break\n",
    "                \n",
    "            # does a split each eligible parent\n",
    "            for ID, bud in eligible_buds.items():\n",
    "                                \n",
    "                # Finds the split\n",
    "                self._find_split(bud)\n",
    "                \n",
    "                # Makes the split\n",
    "                if not self.splitter.no_split: # provides the possibility of no split\n",
    "                    self._make_split()\n",
    "        \n",
    "    \n",
    "    # Defines the function for finding the split reduces the bud's RSS\n",
    "    def _find_split(self, bud):\n",
    "        \n",
    "        # Creates the splitter class\n",
    "        splitter = Splitter()\n",
    "        splitter.bud_ID = bud.ID\n",
    "        \n",
    "        # Based on provided parameter c, this gathers eligible predictors for Random Forests\n",
    "        if self.C is None:\n",
    "            eligible_predictors = np.arange(self.D)\n",
    "        else:\n",
    "            eligible_predictors = np.random.choice(np.arange(self.D), self.C, replace = False)\n",
    "        \n",
    "        # For each eligible predictor\n",
    "        for d in sorted(eligible_predictors):\n",
    "            Xsub_d = bud.Xsub[:,d]\n",
    "            dtype = self.dtypes[d]\n",
    "            if len(np.unique(Xsub_d)) == 1:\n",
    "                continue\n",
    "\n",
    "            # For each threshold value\n",
    "            if dtype == 'quant': # For quantitative variables\n",
    "                for t in np.unique(Xsub_d)[:-1]:\n",
    "                    ysub_L = bud.ysub[Xsub_d <= t]\n",
    "                    ysub_R = bud.ysub[Xsub_d > t]\n",
    "                    rss_reduction = RSS_criteria(ysub_L, ysub_R, bud.ysub)\n",
    "                    if rss_reduction > splitter.rss_reduction:\n",
    "                        splitter._replace_split(rss_reduction, d, dtype = 'quant', t = t)\n",
    "            else:\n",
    "                ordered_x = sorted_x_y(Xsub_d, bud.ysub) # For categorical variables\n",
    "                for i in range(len(ordered_x) - 1):\n",
    "                    L_values = ordered_x[:i+1]\n",
    "                    ysub_L = bud.ysub[np.isin(Xsub_d, L_values)]\n",
    "                    ysub_R = bud.ysub[~np.isin(Xsub_d, L_values)]\n",
    "                    rss_reduction = RSS_criteria(ysub_L, ysub_R, bud.ysub)\n",
    "                    if rss_reduction > splitter.rss_reduction: \n",
    "                        splitter._replace_split(rss_reduction, d, dtype = 'cat', L_values = L_values)\n",
    "        \n",
    "        # Saves the splitter\n",
    "        self.splitter = splitter\n",
    "        \n",
    "    # Defines the function for making the split. It iterates through the layers of the tree, splits at the eligible nodes, and then repeats.\n",
    "    def _make_split(self):\n",
    "        # Updates the parent node\n",
    "        parent_node = self.nodes_dict[self.splitter.bud_ID]\n",
    "        parent_node.leaf = False\n",
    "        parent_node.child_L = self.current_ID\n",
    "        parent_node.child_R = self.current_ID + 1\n",
    "        parent_node.d = self.splitter.d\n",
    "        parent_node.dtype = self.splitter.dtype\n",
    "        parent_node.t = self.splitter.t        \n",
    "        parent_node.L_values = self.splitter.L_values\n",
    "        \n",
    "        # Get X and y data for children\n",
    "        if parent_node.dtype == 'quant':\n",
    "            L_condition = parent_node.Xsub[:,parent_node.d] <= parent_node.t\n",
    "     \n",
    "        else:\n",
    "            L_condition = np.isin(parent_node.Xsub[:,parent_node.d], parent_node.L_values)\n",
    "        Xchild_L = parent_node.Xsub[L_condition]\n",
    "        ychild_L = parent_node.ysub[L_condition]\n",
    "        Xchild_R = parent_node.Xsub[~L_condition]\n",
    "        ychild_R = parent_node.ysub[~L_condition]\n",
    "\n",
    "        \n",
    "        # Creates the child nodes\n",
    "        child_node_L = Node(Xchild_L, ychild_L, depth = parent_node.depth + 1,\n",
    "                            ID = self.current_ID, parent_ID = parent_node.ID)\n",
    "        child_node_R = Node(Xchild_R, ychild_R, depth = parent_node.depth + 1,\n",
    "                            ID = self.current_ID+1, parent_ID = parent_node.ID)\n",
    "        self.nodes_dict[self.current_ID] = child_node_L\n",
    "        self.nodes_dict[self.current_ID + 1] = child_node_R\n",
    "        self.current_ID += 2\n",
    "        \n",
    "    # Prediction portion\n",
    "    \n",
    "    # Defines the function _get_leaf_means that calculates the average of the y variable among training observations in each leaf\n",
    "    def _get_leaf_means(self):\n",
    "        self.leaf_means = {}\n",
    "        for node_ID, node in self.nodes_dict.items():\n",
    "            if node.leaf:\n",
    "                self.leaf_means[node_ID] = node.ysub.mean()\n",
    "\n",
    "                \n",
    "    # Defines the predict function for DecisionTreeRegressor class that runs the test observation through the created tree and returns the mean of the y variable in the leaf\n",
    "    def predict(self, X_test):\n",
    "        \n",
    "        # Calculates the leaf means\n",
    "        self._get_leaf_means()\n",
    "     \n",
    "        yhat = []\n",
    "        for x in X_test:\n",
    "            node = self.nodes_dict[0] \n",
    "            while not node.leaf:\n",
    "                if node.dtype == 'quant':\n",
    "                    if x[node.d] <= node.t:\n",
    "                        node = self.nodes_dict[node.child_L]\n",
    "                    else:\n",
    "                        node = self.nodes_dict[node.child_R]\n",
    "                else:\n",
    "                    if x[node.d] in node.L_values:\n",
    "                        node = self.nodes_dict[node.child_L]\n",
    "                    else:\n",
    "                        node = self.nodes_dict[node.child_R]\n",
    "            yhat.append(self.leaf_means[node.ID])\n",
    "        return np.array(yhat)"
   ]
  },
  {
   "cell_type": "code",
   "execution_count": 5,
   "id": "1c248819",
   "metadata": {},
   "outputs": [],
   "source": [
    "# Defines the class for the Random Forest model\n",
    "class RandomForest:\n",
    "    \n",
    "    # Fit the data \n",
    "    def fit(self, X_train, y_train, B, C, max_depth = 100, min_size = 2, seed = None):\n",
    "        \n",
    "        # Describes the parameters\n",
    "        self.X_train = X_train\n",
    "        self.N, self.D = X_train.shape\n",
    "        self.y_train = y_train\n",
    "        self.B = B # This parameter, B, is the number of bootstrapped samples; we build B many trees\n",
    "        self.C = C # This parameter, C, controls the number of predictors the decision tree considers at each split\n",
    "        self.seed = seed # Provides the seed for consistent results\n",
    "        self.trees = [] # Instantiates trees\n",
    "        \n",
    "        np.random.seed(seed)\n",
    "        for b in range(self.B):\n",
    "            \n",
    "            sample = np.random.choice(np.arange(self.N), size = self.N, replace = True)\n",
    "            X_train_b = X_train[sample]\n",
    "            y_train_b = y_train[sample]\n",
    "            \n",
    "            # Uses the DecisionTreeRegressor class to build a single decision tree\n",
    "            tree = DecisionTreeRegressor()\n",
    "            tree.fit(X_train_b, y_train_b, max_depth = max_depth, min_size = min_size, C = C)\n",
    "            self.trees.append(tree) # Appends the trees to create an ensemble\n",
    "            \n",
    "    # Defines the predict function for Random Forest    \n",
    "    def predict(self, X_test):\n",
    "        \n",
    "        y_test_hats = np.empty((len(self.trees), len(X_test)))\n",
    "        for i, tree in enumerate(self.trees):\n",
    "            y_test_hats[i] = tree.predict(X_test)\n",
    "        \n",
    "        \n",
    "        return y_test_hats.mean(0)"
   ]
  },
  {
   "cell_type": "code",
   "execution_count": 6,
   "id": "f840cdeb",
   "metadata": {},
   "outputs": [],
   "source": [
    "# Loads the data, make sure the csv file is in the same working directory\n",
    "train = pd.read_csv(\"train.csv\")\n",
    "test = pd.read_csv(\"test.csv\")"
   ]
  },
  {
   "cell_type": "code",
   "execution_count": 7,
   "id": "bce9509b",
   "metadata": {},
   "outputs": [],
   "source": [
    "# Drops the first uknown column in the data\n",
    "train = train.drop('Unnamed: 0', axis=1)\n",
    "test = test.drop('Unnamed: 0', axis=1)"
   ]
  },
  {
   "cell_type": "code",
   "execution_count": 8,
   "id": "a6f5108b",
   "metadata": {},
   "outputs": [],
   "source": [
    "# Defines a class, date_to_int, that transforms the Date feature into an integer that represents the days past the initial date found in the data, Jan 21, 2021.\n",
    "# Transformation of the data for time series analysis\n",
    "def date_to_int(d):\n",
    "    initial_date = date(2020, 1, 21)\n",
    "    curr_date = [int(x) for x in d.split('-')]\n",
    "    final_date = date(curr_date[0], curr_date[1], curr_date[2])\n",
    "    delta = final_date - initial_date\n",
    "    return delta.days"
   ]
  },
  {
   "cell_type": "code",
   "execution_count": 9,
   "id": "57e01421",
   "metadata": {},
   "outputs": [],
   "source": [
    "# Transforms the Country feature, a categorical feature, using one-hot encoding into an integer in a vector space representing that respective country\n",
    "one_hot_train = pd.get_dummies(train['Country'])\n",
    "train = train.join(one_hot_train)\n",
    "# Applies the date_to_int function\n",
    "train['Day'] = train['Date'].apply(lambda x: date_to_int(x))"
   ]
  },
  {
   "cell_type": "code",
   "execution_count": 10,
   "id": "f1a4716d",
   "metadata": {},
   "outputs": [],
   "source": [
    "# Done similarly with test data\n",
    "one_hot_test = pd.get_dummies(test['Country'])\n",
    "test = test.join(one_hot_train)\n",
    "test['Day'] = test['Date'].apply(lambda x: date_to_int(x))"
   ]
  },
  {
   "cell_type": "code",
   "execution_count": 11,
   "id": "2692fd99",
   "metadata": {},
   "outputs": [],
   "source": [
    "# Applies a log transform on the dependent variables \n",
    "train['log_Confirmed'] = train['Confirmed'].apply(lambda x: round(math.log(x+1),3))\n",
    "train['log_Deaths'] = train['Deaths'].apply(lambda x: round(math.log(x+1),3))\n",
    "train['log_Recovered'] = train['Recovered'].apply(lambda x: round(math.log(x+1),3))\n",
    "train['log_Active'] = train['Active'].apply(lambda x: round(math.log(x+1),3))"
   ]
  },
  {
   "cell_type": "code",
   "execution_count": 12,
   "id": "25fcd65f",
   "metadata": {},
   "outputs": [],
   "source": [
    "# Done similarly with test data\n",
    "test['log_Confirmed'] = test['Confirmed'].apply(lambda x: round(math.log(x+1),3))\n",
    "test['log_Deaths'] = test['Deaths'].apply(lambda x: round(math.log(x+1),3))\n",
    "test['log_Recovered'] = test['Recovered'].apply(lambda x: round(math.log(x+1),3))\n",
    "test['log_Active'] = test['Active'].apply(lambda x: round(math.log(x+1),3))"
   ]
  },
  {
   "cell_type": "code",
   "execution_count": 13,
   "id": "85af58c5",
   "metadata": {},
   "outputs": [],
   "source": [
    "# Drops the first seven columns in the data set that contained the untransformed features\n",
    "train.drop(train.iloc[:, 0:6], inplace = True, axis = 1)\n",
    "test.drop(test.iloc[:, 0:6], inplace = True, axis = 1)"
   ]
  },
  {
   "cell_type": "code",
   "execution_count": 18,
   "id": "f9015b5a",
   "metadata": {},
   "outputs": [
    {
     "name": "stdout",
     "output_type": "stream",
     "text": [
      "Now predicting Confirmed Cases...\n",
      "Cross validated root mean squared errors are: [0.731, 2.642, 9.513, 17.414, 14.406]\n",
      "Average RMSE using RF to predict Confirmed cases is: 8.9412\n",
      "\n",
      "Cross validated root mean squared log errors are: [0.094, 0.292, 0.691, 0.715, 0.361]\n",
      "Average RMSLE using RF to predict Confirmed cases is: 0.4306\n"
     ]
    }
   ],
   "source": [
    "# Grabbing x/y train test sets for 'Confirmed' cases\n",
    "confirmed_train_x = train.drop(train.columns[[-1,-2,-3,-4]], axis = 1)\n",
    "confirmed_train_y = train['log_Confirmed']\n",
    "\n",
    "confirmed_test_x = test.drop(test.columns[[-1,-2,-3,-4]], axis = 1)\n",
    "confirmed_test_y = test['log_Confirmed']\n",
    "\n",
    "# Performing 5-fold cross validation on rolling basis for 'Confirmed' RF model\n",
    "all_train = confirmed_train_x.append(confirmed_test_x).to_numpy()\n",
    "all_values = confirmed_train_y.append(confirmed_test_y).to_numpy()\n",
    "\n",
    "tscv = TimeSeriesSplit(n_splits=5)\n",
    "rmse_scores = []\n",
    "rmsle_scores = []\n",
    "\n",
    "for train_index, test_index in tscv.split(all_train):\n",
    "    X_train, X_test = all_train[train_index], all_train[test_index]\n",
    "    y_train, y_test = all_values[train_index], all_values[test_index]\n",
    "    \n",
    "    rf = RandomForest()\n",
    "    rf.fit(X_train, y_train, B = 30, C = 4, max_depth = 20, min_size = 5, seed = None)\n",
    "    predict = rf.predict(X_test)\n",
    "    rmse_scores.append(round(mean_squared_error(y_test, predict),3))\n",
    "    rmsle_scores.append(round(mean_squared_log_error(y_test, predict),3))\n",
    "\n",
    "print('Now predicting Confirmed Cases...')\n",
    "print('Cross validated root mean squared errors are:', rmse_scores)\n",
    "print('Average RMSE using RF to predict Confirmed cases is:', mean(rmse_scores))\n",
    "print()\n",
    "print('Cross validated root mean squared log errors are:', rmsle_scores)\n",
    "print('Average RMSLE using RF to predict Confirmed cases is:', mean(rmsle_scores))"
   ]
  },
  {
   "cell_type": "code",
   "execution_count": 15,
   "id": "80409852",
   "metadata": {
    "scrolled": true
   },
   "outputs": [
    {
     "data": {
      "text/plain": [
       "Text(0, 0.5, '$\\\\hat{y}$')"
      ]
     },
     "execution_count": 15,
     "metadata": {},
     "output_type": "execute_result"
    },
    {
     "data": {
      "image/png": "[encoded data removed]",
      "text/plain": [
       "<Figure size 432x288 with 1 Axes>"
      ]
     },
     "metadata": {
      "needs_background": "light"
     },
     "output_type": "display_data"
    }
   ],
   "source": [
    "# Plots the observed values, y, against the fittted values, y hat\n",
    "df_pred = pd.DataFrame(list(y_test), columns = ['y_test'])\n",
    "df_pred['predict'] = list(predict)\n",
    "\n",
    "plt.scatter(df_pred['y_test'], df_pred['predict'], alpha = 0.8)\n",
    "plt.title('Random Forest Observed vs. Fitted Values')\n",
    "plt.xlabel('y')\n",
    "plt.ylabel('$\\hat{y}$')"
   ]
  },
  {
   "cell_type": "code",
   "execution_count": 16,
   "id": "fea5a021",
   "metadata": {},
   "outputs": [
    {
     "data": {
      "text/html": [
       "<div>\n",
       "<style scoped>\n",
       "    .dataframe tbody tr th:only-of-type {\n",
       "        vertical-align: middle;\n",
       "    }\n",
       "\n",
       "    .dataframe tbody tr th {\n",
       "        vertical-align: top;\n",
       "    }\n",
       "\n",
       "    .dataframe thead th {\n",
       "        text-align: right;\n",
       "    }\n",
       "</style>\n",
       "<table border=\"1\" class=\"dataframe\">\n",
       "  <thead>\n",
       "    <tr style=\"text-align: right;\">\n",
       "      <th></th>\n",
       "      <th>y_test</th>\n",
       "      <th>predict</th>\n",
       "    </tr>\n",
       "  </thead>\n",
       "  <tbody>\n",
       "    <tr>\n",
       "      <th>y_test</th>\n",
       "      <td>1.00000</td>\n",
       "      <td>0.74558</td>\n",
       "    </tr>\n",
       "    <tr>\n",
       "      <th>predict</th>\n",
       "      <td>0.74558</td>\n",
       "      <td>1.00000</td>\n",
       "    </tr>\n",
       "  </tbody>\n",
       "</table>\n",
       "</div>"
      ],
      "text/plain": [
       "          y_test  predict\n",
       "y_test   1.00000  0.74558\n",
       "predict  0.74558  1.00000"
      ]
     },
     "execution_count": 16,
     "metadata": {},
     "output_type": "execute_result"
    }
   ],
   "source": [
    "df_pred.corr()"
   ]
  },
  {
   "cell_type": "code",
   "execution_count": 23,
   "id": "04cee49a",
   "metadata": {},
   "outputs": [
    {
     "name": "stdout",
     "output_type": "stream",
     "text": [
      "Now predicting Deaths Cases...\n",
      "Cross validated root mean squared errors are: [0.123, 0.453, 1.825, 5.987, 9.067]\n",
      "Average RMSE using RF to predict Deaths cases is: 3.491\n",
      "\n",
      "Cross validated root mean squared log errors are: [0.009, 0.056, 0.245, 0.596, 0.673]\n",
      "Average RMSLE using RF to predict Deaths cases is: 0.3158\n"
     ]
    }
   ],
   "source": [
    "# Grabbing x/y train test sets for 'Deaths' cases\n",
    "deaths_train_x = train.drop(train.columns[[-1,-2,-3,-4]], axis = 1)\n",
    "deaths_train_y = train['log_Deaths']\n",
    "\n",
    "deaths_test_x = test.drop(test.columns[[-1,-2,-3,-4]], axis = 1)\n",
    "deaths_test_y = test['log_Deaths']\n",
    "\n",
    "# Performing 5-fold cross validation on rolling basis for 'Deaths' RF model\n",
    "all_train = deaths_train_x.append(deaths_test_x).to_numpy()\n",
    "all_values = deaths_train_y.append(deaths_test_y).to_numpy()\n",
    "\n",
    "tscv = TimeSeriesSplit(n_splits=5)\n",
    "rmse_scores = []\n",
    "rmsle_scores = []\n",
    "\n",
    "for train_index, test_index in tscv.split(all_train):\n",
    "    X_train, X_test = all_train[train_index], all_train[test_index]\n",
    "    y_train, y_test = all_values[train_index], all_values[test_index]\n",
    "    \n",
    "    rf = RandomForest()\n",
    "    rf.fit(X_train, y_train, B = 30, C = 4, max_depth = 20, min_size = 5, seed = None)\n",
    "    predict = rf.predict(X_test)\n",
    "    rmse_scores.append(round(mean_squared_error(y_test, predict),3))\n",
    "    rmsle_scores.append(round(mean_squared_log_error(y_test, predict),3))\n",
    "\n",
    "print('Now predicting Deaths Cases...')\n",
    "print('Cross validated root mean squared errors are:', rmse_scores)\n",
    "print('Average RMSE using RF to predict Deaths cases is:', mean(rmse_scores))\n",
    "print()\n",
    "print('Cross validated root mean squared log errors are:', rmsle_scores)\n",
    "print('Average RMSLE using RF to predict Deaths cases is:', mean(rmsle_scores))"
   ]
  },
  {
   "cell_type": "code",
   "execution_count": 18,
   "id": "3a73a4a6",
   "metadata": {
    "scrolled": true
   },
   "outputs": [
    {
     "data": {
      "text/plain": [
       "Text(0, 0.5, '$\\\\hat{y}$')"
      ]
     },
     "execution_count": 18,
     "metadata": {},
     "output_type": "execute_result"
    },
    {
     "data": {
      "image/png": "[encoded data removed]",
      "text/plain": [
       "<Figure size 432x288 with 1 Axes>"
      ]
     },
     "metadata": {
      "needs_background": "light"
     },
     "output_type": "display_data"
    }
   ],
   "source": [
    "# Plots the observed values, y, against the fittted values, y hat\n",
    "df_pred = pd.DataFrame(list(y_test), columns = ['y_test'])\n",
    "df_pred['predict'] = list(predict)\n",
    "\n",
    "plt.scatter(df_pred['y_test'], df_pred['predict'], alpha = 0.8)\n",
    "plt.title('Random Forest Observed vs. Fitted Values')\n",
    "plt.xlabel('y')\n",
    "plt.ylabel('$\\hat{y}$')"
   ]
  },
  {
   "cell_type": "code",
   "execution_count": 19,
   "id": "1786dffe",
   "metadata": {},
   "outputs": [
    {
     "data": {
      "text/html": [
       "<div>\n",
       "<style scoped>\n",
       "    .dataframe tbody tr th:only-of-type {\n",
       "        vertical-align: middle;\n",
       "    }\n",
       "\n",
       "    .dataframe tbody tr th {\n",
       "        vertical-align: top;\n",
       "    }\n",
       "\n",
       "    .dataframe thead th {\n",
       "        text-align: right;\n",
       "    }\n",
       "</style>\n",
       "<table border=\"1\" class=\"dataframe\">\n",
       "  <thead>\n",
       "    <tr style=\"text-align: right;\">\n",
       "      <th></th>\n",
       "      <th>y_test</th>\n",
       "      <th>predict</th>\n",
       "    </tr>\n",
       "  </thead>\n",
       "  <tbody>\n",
       "    <tr>\n",
       "      <th>y_test</th>\n",
       "      <td>1.000000</td>\n",
       "      <td>0.730736</td>\n",
       "    </tr>\n",
       "    <tr>\n",
       "      <th>predict</th>\n",
       "      <td>0.730736</td>\n",
       "      <td>1.000000</td>\n",
       "    </tr>\n",
       "  </tbody>\n",
       "</table>\n",
       "</div>"
      ],
      "text/plain": [
       "           y_test   predict\n",
       "y_test   1.000000  0.730736\n",
       "predict  0.730736  1.000000"
      ]
     },
     "execution_count": 19,
     "metadata": {},
     "output_type": "execute_result"
    }
   ],
   "source": [
    "df_pred.corr()"
   ]
  },
  {
   "cell_type": "code",
   "execution_count": 28,
   "id": "8c30a687",
   "metadata": {},
   "outputs": [
    {
     "name": "stdout",
     "output_type": "stream",
     "text": [
      "Now predicting Recovered Cases...\n",
      "Cross validated root mean squared errors are: [0.452, 0.999, 2.634, 9.167, 13.391]\n",
      "Average RMSE using RF to predict Recovered cases is: 5.3286\n",
      "\n",
      "Cross validated root mean squared log errors are: [0.066, 0.116, 0.301, 0.788, 0.669]\n",
      "Average RMSLE using RF to predict Recovered cases is: 0.388\n"
     ]
    }
   ],
   "source": [
    "# Grabbing x/y train test sets for 'Recovered' cases\n",
    "recovered_train_x = train.drop(train.columns[[-1,-2,-3,-4]], axis = 1)\n",
    "recovered_train_y = train['log_Recovered']\n",
    "\n",
    "recovered_test_x = test.drop(test.columns[[-1,-2,-3,-4]], axis = 1)\n",
    "recovered_test_y = test['log_Recovered']\n",
    "\n",
    "# Performing 5-fold cross validation on rolling basis for 'Deaths' RF model\n",
    "all_train = recovered_train_x.append(recovered_test_x).to_numpy()\n",
    "all_values = recovered_train_y.append(recovered_test_y).to_numpy()\n",
    "\n",
    "tscv = TimeSeriesSplit(n_splits=5)\n",
    "rmse_scores = []\n",
    "rmsle_scores = []\n",
    "\n",
    "for train_index, test_index in tscv.split(all_train):\n",
    "    X_train, X_test = all_train[train_index], all_train[test_index]\n",
    "    y_train, y_test = all_values[train_index], all_values[test_index]\n",
    "    \n",
    "    rf = RandomForest()\n",
    "    rf.fit(X_train, y_train, B = 30, C = 4, max_depth = 20, min_size = 5, seed = None)\n",
    "    predict = rf.predict(X_test)\n",
    "    rmse_scores.append(round(mean_squared_error(y_test, predict),3))\n",
    "    rmsle_scores.append(round(mean_squared_log_error(y_test, predict),3))\n",
    "\n",
    "print('Now predicting Recovered Cases...')\n",
    "print('Cross validated root mean squared errors are:', rmse_scores)\n",
    "print('Average RMSE using RF to predict Recovered cases is:', mean(rmse_scores))\n",
    "print()\n",
    "print('Cross validated root mean squared log errors are:', rmsle_scores)\n",
    "print('Average RMSLE using RF to predict Recovered cases is:', mean(rmsle_scores))"
   ]
  },
  {
   "cell_type": "code",
   "execution_count": 21,
   "id": "47e2c60e",
   "metadata": {
    "scrolled": true
   },
   "outputs": [
    {
     "data": {
      "text/plain": [
       "Text(0, 0.5, '$\\\\hat{y}$')"
      ]
     },
     "execution_count": 21,
     "metadata": {},
     "output_type": "execute_result"
    },
    {
     "data": {
      "image/png": "[encoded data removed]",
      "text/plain": [
       "<Figure size 432x288 with 1 Axes>"
      ]
     },
     "metadata": {
      "needs_background": "light"
     },
     "output_type": "display_data"
    }
   ],
   "source": [
    "# Plots the observed values, y, against the fittted values, y hat\n",
    "df_pred = pd.DataFrame(list(y_test), columns = ['y_test'])\n",
    "df_pred['predict'] = list(predict)\n",
    "\n",
    "plt.scatter(df_pred['y_test'], df_pred['predict'], alpha = 0.8)\n",
    "plt.title('Random Forest Observed vs. Fitted Values')\n",
    "plt.xlabel('y')\n",
    "plt.ylabel('$\\hat{y}$')"
   ]
  },
  {
   "cell_type": "code",
   "execution_count": 22,
   "id": "9369f6b3",
   "metadata": {},
   "outputs": [
    {
     "data": {
      "text/html": [
       "<div>\n",
       "<style scoped>\n",
       "    .dataframe tbody tr th:only-of-type {\n",
       "        vertical-align: middle;\n",
       "    }\n",
       "\n",
       "    .dataframe tbody tr th {\n",
       "        vertical-align: top;\n",
       "    }\n",
       "\n",
       "    .dataframe thead th {\n",
       "        text-align: right;\n",
       "    }\n",
       "</style>\n",
       "<table border=\"1\" class=\"dataframe\">\n",
       "  <thead>\n",
       "    <tr style=\"text-align: right;\">\n",
       "      <th></th>\n",
       "      <th>y_test</th>\n",
       "      <th>predict</th>\n",
       "    </tr>\n",
       "  </thead>\n",
       "  <tbody>\n",
       "    <tr>\n",
       "      <th>y_test</th>\n",
       "      <td>1.000000</td>\n",
       "      <td>0.709267</td>\n",
       "    </tr>\n",
       "    <tr>\n",
       "      <th>predict</th>\n",
       "      <td>0.709267</td>\n",
       "      <td>1.000000</td>\n",
       "    </tr>\n",
       "  </tbody>\n",
       "</table>\n",
       "</div>"
      ],
      "text/plain": [
       "           y_test   predict\n",
       "y_test   1.000000  0.709267\n",
       "predict  0.709267  1.000000"
      ]
     },
     "execution_count": 22,
     "metadata": {},
     "output_type": "execute_result"
    }
   ],
   "source": [
    "df_pred.corr()"
   ]
  },
  {
   "cell_type": "code",
   "execution_count": 33,
   "id": "b88baf13",
   "metadata": {},
   "outputs": [
    {
     "name": "stdout",
     "output_type": "stream",
     "text": [
      "Now predicting Active Cases...\n",
      "Cross validated root mean squared errors are: [0.452, 0.93, 11.211, 17.695, 14.343]\n",
      "Average RMSE using RF to predict Active cases is: 8.9262\n",
      "\n",
      "Cross validated root mean squared log errors are: [0.067, 0.116, 1.096, 0.801, 0.412]\n",
      "Average RMSLE using RF to predict Active cases is: 0.4984\n"
     ]
    }
   ],
   "source": [
    "# Grabbing x/y train test sets for 'Active' cases\n",
    "active_train_x = train.drop(train.columns[[-1,-2,-3,-4]], axis = 1)\n",
    "active_train_y = train['log_Active']\n",
    "\n",
    "active_test_x = test.drop(test.columns[[-1,-2,-3,-4]], axis = 1)\n",
    "active_test_y = test['log_Active']\n",
    "\n",
    "# Performing 5-fold cross validation on rolling basis for 'Active' RF model\n",
    "all_train = recovered_train_x.append(active_test_x).to_numpy()\n",
    "all_values = recovered_train_y.append(active_test_y).to_numpy()\n",
    "\n",
    "tscv = TimeSeriesSplit(n_splits=5)\n",
    "rmse_scores = []\n",
    "rmsle_scores = []\n",
    "\n",
    "for train_index, test_index in tscv.split(all_train):\n",
    "    X_train, X_test = all_train[train_index], all_train[test_index]\n",
    "    y_train, y_test = all_values[train_index], all_values[test_index]\n",
    "    \n",
    "    rf = RandomForest()\n",
    "    rf.fit(X_train, y_train, B = 30, C = 4, max_depth = 20, min_size = 5, seed = None)\n",
    "    predict = rf.predict(X_test)\n",
    "    rmse_scores.append(round(mean_squared_error(y_test, predict),3))\n",
    "    rmsle_scores.append(round(mean_squared_log_error(y_test, predict),3))\n",
    "\n",
    "print('Now predicting Active Cases...')\n",
    "print('Cross validated root mean squared errors are:', rmse_scores)\n",
    "print('Average RMSE using RF to predict Active cases is:', mean(rmse_scores))\n",
    "print()\n",
    "print('Cross validated root mean squared log errors are:', rmsle_scores)\n",
    "print('Average RMSLE using RF to predict Active cases is:', mean(rmsle_scores))"
   ]
  },
  {
   "cell_type": "code",
   "execution_count": 24,
   "id": "48614b67",
   "metadata": {
    "scrolled": true
   },
   "outputs": [
    {
     "data": {
      "text/plain": [
       "Text(0, 0.5, '$\\\\hat{y}$')"
      ]
     },
     "execution_count": 24,
     "metadata": {},
     "output_type": "execute_result"
    },
    {
     "data": {
      "image/png": "[encoded data removed]",
      "text/plain": [
       "<Figure size 432x288 with 1 Axes>"
      ]
     },
     "metadata": {
      "needs_background": "light"
     },
     "output_type": "display_data"
    }
   ],
   "source": [
    "# Plots the observed values, y, against the fittted values, y hat\n",
    "df_pred = pd.DataFrame(list(y_test), columns = ['y_test'])\n",
    "df_pred['predict'] = list(predict)\n",
    "\n",
    "plt.scatter(df_pred['y_test'], df_pred['predict'], alpha = 0.8)\n",
    "plt.title('Random Forest Observed vs. Fitted Values')\n",
    "plt.xlabel('y')\n",
    "plt.ylabel('$\\hat{y}$')"
   ]
  },
  {
   "cell_type": "code",
   "execution_count": 25,
   "id": "abb9e36d",
   "metadata": {
    "scrolled": true
   },
   "outputs": [
    {
     "data": {
      "text/html": [
       "<div>\n",
       "<style scoped>\n",
       "    .dataframe tbody tr th:only-of-type {\n",
       "        vertical-align: middle;\n",
       "    }\n",
       "\n",
       "    .dataframe tbody tr th {\n",
       "        vertical-align: top;\n",
       "    }\n",
       "\n",
       "    .dataframe thead th {\n",
       "        text-align: right;\n",
       "    }\n",
       "</style>\n",
       "<table border=\"1\" class=\"dataframe\">\n",
       "  <thead>\n",
       "    <tr style=\"text-align: right;\">\n",
       "      <th></th>\n",
       "      <th>y_test</th>\n",
       "      <th>predict</th>\n",
       "    </tr>\n",
       "  </thead>\n",
       "  <tbody>\n",
       "    <tr>\n",
       "      <th>y_test</th>\n",
       "      <td>1.000000</td>\n",
       "      <td>0.728403</td>\n",
       "    </tr>\n",
       "    <tr>\n",
       "      <th>predict</th>\n",
       "      <td>0.728403</td>\n",
       "      <td>1.000000</td>\n",
       "    </tr>\n",
       "  </tbody>\n",
       "</table>\n",
       "</div>"
      ],
      "text/plain": [
       "           y_test   predict\n",
       "y_test   1.000000  0.728403\n",
       "predict  0.728403  1.000000"
      ]
     },
     "execution_count": 25,
     "metadata": {},
     "output_type": "execute_result"
    }
   ],
   "source": [
    "df_pred.corr()"
   ]
  },
  {
   "cell_type": "markdown",
   "id": "223a41f3",
   "metadata": {},
   "source": [
    "from sklearn import metrics\n",
    "mae=metrics.mean_absolute_error(y_test, predict)\n",
    "mse=metrics.mean_squared_error(y_test, predict)\n",
    "# Printing the metrics\n",
    "print('R2 square:',metrics.r2_score(y_test, predict))\n",
    "print('MAE: ', mae)\n",
    "print('MSE: ', mse)"
   ]
  }
 ],
 "metadata": {
  "kernelspec": {
   "display_name": "Python 3 (ipykernel)",
   "language": "python",
   "name": "python3"
  },
  "language_info": {
   "codemirror_mode": {
    "name": "ipython",
    "version": 3
   },
   "file_extension": ".py",
   "mimetype": "text/x-python",
   "name": "python",
   "nbconvert_exporter": "python",
   "pygments_lexer": "ipython3",
   "version": "3.9.7"
  }
 },
 "nbformat": 4,
 "nbformat_minor": 5
}
